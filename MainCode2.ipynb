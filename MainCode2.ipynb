{
 "cells": [
  {
   "cell_type": "code",
   "execution_count": 1,
   "id": "dc95b7a1",
   "metadata": {},
   "outputs": [],
   "source": [
    "using Random\n",
    "using DataFrames\n",
    "using CSV"
   ]
  },
  {
   "cell_type": "code",
   "execution_count": 2,
   "id": "11e48ea3",
   "metadata": {},
   "outputs": [
    {
     "data": {
      "text/plain": [
       "build_lattice_df (generic function with 1 method)"
      ]
     },
     "execution_count": 2,
     "metadata": {},
     "output_type": "execute_result"
    }
   ],
   "source": [
    "function build_lattice_df(Lx,Ly)\n",
    "    \n",
    "    N = Lx*Ly\n",
    "    sites = collect(1:N)\n",
    "    dirs = ['x','y']\n",
    "    interactions = DataFrame([\"$site,$dir\" => [] for site in sites for dir in dirs])    \n",
    "    for site in 1:N\n",
    "        up = mod(site-1-Lx,N)\n",
    "        down = mod(site-1+Lx,N)\n",
    "        right = Int(((site-1)-((site-1)%Lx)) + mod(((site-1)%Lx)+1,Lx))\n",
    "        left = Int(((site-1)-((site-1)%Lx)) + mod(((site-1)%Lx)-1,Lx))\n",
    "        push!(interactions[!,\"$site,x\"],[left+1,right+1])\n",
    "        push!(interactions[!,\"$site,y\"],[up+1,down+1])\n",
    "    end\n",
    "    \n",
    "    return interactions\n",
    "end"
   ]
  },
  {
   "cell_type": "code",
   "execution_count": 3,
   "id": "b1d10588",
   "metadata": {},
   "outputs": [
    {
     "data": {
      "text/plain": [
       "rows_and_columns (generic function with 1 method)"
      ]
     },
     "execution_count": 3,
     "metadata": {},
     "output_type": "execute_result"
    }
   ],
   "source": [
    "function rows_and_columns(Lx,Ly)\n",
    "    \n",
    "    N =Lx*Ly\n",
    "    rows = DataFrame([\"row$row\" => [] for row in 1:Ly])    \n",
    "    cols = DataFrame([\"col$col\" => [] for col in 1:Lx])\n",
    "    for site in 1:N\n",
    "        row = Int((((site-1) - ((site-1)%Lx))/Ly)+1)\n",
    "        col = Int(((site-1) % Lx)+1)\n",
    "        push!(rows[!,\"row$row\"],site)\n",
    "        push!(cols[!,\"col$col\"],site)\n",
    "    end\n",
    "    \n",
    "    return rows, cols\n",
    "end"
   ]
  },
  {
   "cell_type": "code",
   "execution_count": 4,
   "id": "1478b0b7",
   "metadata": {},
   "outputs": [
    {
     "data": {
      "text/plain": [
       "Calculate_XY_Energy (generic function with 1 method)"
      ]
     },
     "execution_count": 4,
     "metadata": {},
     "output_type": "execute_result"
    }
   ],
   "source": [
    "function Calculate_XY_Energy(config,interactions)\n",
    "    \n",
    "    N = length(config)\n",
    "    totalenergy = 0\n",
    "    \n",
    "    for site in (1:N)\n",
    "        neighbors_x = interactions[!,\"$site,x\"][1,1]\n",
    "        neighbors_y = interactions[!,\"$site,y\"][1,1]\n",
    "        energy_contributions_x = 0.5*-1*cos.(config[site].-config[neighbors_x])\n",
    "        energy_contributions_y = 0.5*-1*cos.(config[site].-config[neighbors_y])\n",
    "        totalenergy += sum(energy_contributions_x) + sum(energy_contributions_y)\n",
    "    end\n",
    "    \n",
    "    return totalenergy\n",
    "\n",
    "end"
   ]
  },
  {
   "cell_type": "code",
   "execution_count": 131,
   "id": "4f36b25e",
   "metadata": {
    "scrolled": true
   },
   "outputs": [
    {
     "data": {
      "text/plain": [
       "-512.0"
      ]
     },
     "execution_count": 131,
     "metadata": {},
     "output_type": "execute_result"
    }
   ],
   "source": [
    "test1 = ones(256)*0.5;\n",
    "interactions = build_lattice_df(16,16);\n",
    "test_energy = Calculate_XY_Energy(test1,interactions)"
   ]
  },
  {
   "cell_type": "code",
   "execution_count": 74,
   "id": "614500e6",
   "metadata": {},
   "outputs": [
    {
     "data": {
      "text/plain": [
       "XY_update_function (generic function with 1 method)"
      ]
     },
     "execution_count": 74,
     "metadata": {},
     "output_type": "execute_result"
    }
   ],
   "source": [
    "function XY_update_function(config,energy,interactions,beta,energy_func)\n",
    "    \n",
    "    random_angles =rand(Float64,length(config))*2*pi\n",
    "#     new_config = mod2pi.(copy(config).+random_angles)\n",
    "    new_energy = energy_func(random_angles,interactions)\n",
    "    deltaE = new_energy-energy\n",
    "    exp_beta_deltaE = exp(-1*beta*deltaE)\n",
    "    rand_value = rand(Float64,1)[1]\n",
    "    delta_accept_count = 0\n",
    "    \n",
    "    if exp_beta_deltaE > rand_value\n",
    "        config = random_angles\n",
    "        delta_accept_count += 1\n",
    "    else\n",
    "        deltaE = 0.\n",
    "    end\n",
    "    \n",
    "    return config, deltaE, delta_accept_count\n",
    "end"
   ]
  },
  {
   "cell_type": "code",
   "execution_count": 104,
   "id": "3c6e79ea",
   "metadata": {},
   "outputs": [
    {
     "name": "stdout",
     "output_type": "stream",
     "text": [
      "  0.000109 seconds (480 allocations: 20.750 KiB)\n",
      "  0.000116 seconds (490 allocations: 21.484 KiB)\n"
     ]
    },
    {
     "data": {
      "text/plain": [
       "([4.334492319935338, 3.4279188420941553, 4.126751119446728, 3.937902463649892, 3.317298931511041, 2.476859000183392, 3.466183362976163, 1.9028579962861494, 1.3222925150795892, 2.032019791907657, 3.5792626168108117, 1.7340883578640014, 5.270377678794494, 2.6865293559330126, 4.994565682189007, 5.621823698497897], 0.0, 0)"
      ]
     },
     "execution_count": 104,
     "metadata": {},
     "output_type": "execute_result"
    }
   ],
   "source": [
    "test2 = rand(Float64,4^2)*2pi;\n",
    "interactions = build_lattice_df(4,4);\n",
    "@time begin\n",
    "test_energy2 = Calculate_XY_Energy(test2,interactions)\n",
    "end\n",
    "@time begin\n",
    "XY_update_function(test2,test_energy2,interactions,1,Calculate_XY_Energy)\n",
    "end"
   ]
  },
  {
   "cell_type": "code",
   "execution_count": 99,
   "id": "cf1fd28a",
   "metadata": {},
   "outputs": [
    {
     "data": {
      "text/plain": [
       "spin_stiffness (generic function with 1 method)"
      ]
     },
     "execution_count": 99,
     "metadata": {},
     "output_type": "execute_result"
    }
   ],
   "source": [
    "function spin_stiffness(beta,config,interactions,rows,cols)\n",
    "    \n",
    "    N = length(config)\n",
    "    L = Int(sqrt(N)) # obv for a square lattice only\n",
    "    \n",
    "    avg_ps_over_rows = 0\n",
    "    for row in 1:L\n",
    "        sites_in_row = rows[!,\"row$row\"]\n",
    "        cos_contributions_x = 0\n",
    "        sin_contributions_x = 0\n",
    "        for site in sites_in_row\n",
    "            neighbors_x = interactions[!,\"$site,x\"][1,1]\n",
    "            cos_contributions_x += sum(0.5*-1*cos.(config[site].-config[neighbors_x]))\n",
    "            sin_contributions_x += sum(0.5*-1*sin.(config[site].-config[neighbors_x]))\n",
    "        end\n",
    "        avg_ps_over_rows += ((1/L) * (1/N) * cos_contributions_x) - ((1/L) * (beta/N) * sin_contributions_x^2)\n",
    "    end\n",
    "    \n",
    "    avg_ps_over_cols = 0\n",
    "    for col in 1:L\n",
    "        sites_in_cols = cols[!,\"col$col\"]\n",
    "        cos_contributions_y = 0\n",
    "        sin_contributions_y = 0\n",
    "        for site in sites_in_cols\n",
    "            neighbors_y = interactions[!,\"$site,y\"][1,1]\n",
    "            cos_contributions_y += sum(0.5*-1*cos.(config[site].-config[neighbors_y]))\n",
    "            sin_contributions_y += sum(0.5*-1*sin.(config[site].-config[neighbors_y]))\n",
    "        end\n",
    "        avg_ps_over_cols += ((1/L) * (1/N) * cos_contributions_y) - ((1/L) * (beta/N) * sin_contributions_y^2)\n",
    "    end\n",
    "    \n",
    "    spin_stiffness = (avg_ps_over_rows+avg_ps_over_cols)/2\n",
    "            \n",
    "    return spin_stiffness, avg_ps_over_rows, avg_ps_over_cols\n",
    "end"
   ]
  },
  {
   "cell_type": "code",
   "execution_count": 100,
   "id": "b8336552",
   "metadata": {},
   "outputs": [
    {
     "data": {
      "text/plain": [
       "(-0.25, -0.25, -0.25)"
      ]
     },
     "execution_count": 100,
     "metadata": {},
     "output_type": "execute_result"
    }
   ],
   "source": [
    "rows,cols = rows_and_columns(4,4)\n",
    "spin_stiffness(1,test1,interactions,rows,cols)"
   ]
  },
  {
   "cell_type": "code",
   "execution_count": 101,
   "id": "0ead31d1",
   "metadata": {},
   "outputs": [
    {
     "data": {
      "text/plain": [
       "(0.1040367091367856, 0.1040367091367856, 0.1040367091367856)"
      ]
     },
     "execution_count": 101,
     "metadata": {},
     "output_type": "execute_result"
    }
   ],
   "source": [
    "chk = [-1,1,-1,1,1,-1,1,-1,-1,1,-1,1,1,-1,1,-1]\n",
    "spin_stiffness(1,chk,interactions,rows,cols)"
   ]
  },
  {
   "cell_type": "code",
   "execution_count": 109,
   "id": "293c57e4",
   "metadata": {},
   "outputs": [
    {
     "name": "stdout",
     "output_type": "stream",
     "text": [
      "  0.000221 seconds (933 allocations: 38.000 KiB)\n"
     ]
    },
    {
     "data": {
      "text/plain": [
       "(0.008269999469140712, -0.02414012162955278, 0.0406801205678342)"
      ]
     },
     "execution_count": 109,
     "metadata": {},
     "output_type": "execute_result"
    }
   ],
   "source": [
    "@time begin\n",
    "test2 = rand(Float64,4^2)*2pi;\n",
    "spin_stiffness(1,test2,interactions,rows,cols)\n",
    "end"
   ]
  },
  {
   "cell_type": "code",
   "execution_count": 135,
   "id": "1e053c18",
   "metadata": {},
   "outputs": [
    {
     "data": {
      "text/plain": [
       "MonteCarlo_XY (generic function with 2 methods)"
      ]
     },
     "execution_count": 135,
     "metadata": {},
     "output_type": "execute_result"
    }
   ],
   "source": [
    "function MonteCarlo_XY(beta,Lx,Ly,warmup_steps,steps,build_lattice_function,rows_and_cols_function,update_function,energy_function,spin_stiffness_function)\n",
    "    \n",
    "    # system information\n",
    "    N = Lx*Ly\n",
    "    interactions = build_lattice_function(Lx,Ly)\n",
    "    rows,cols = rows_and_cols_function(Lx,Ly)\n",
    "    initial_config = rand(Float64,N)*2*pi\n",
    "    \n",
    "    # initialize dataframes\n",
    "    maindf = DataFrame(:avenergy => Float64[],:avenergy2 => Float64[],:pss => Float64[],:avpss => Float64[],:accept_rate => Float64[])\n",
    "    configs = DataFrame()\n",
    "    \n",
    "    # warmup steps - track Es and Ms but not in averages\n",
    "    config = initial_config\n",
    "    configs[!,:initial] = config\n",
    "    energy = energy_function(config,interactions)\n",
    "    for step in (1:warmup_steps)\n",
    "        config, deltaE, _ = update_function(config,energy,interactions,beta,energy_function)\n",
    "        energy = energy+deltaE\n",
    "    end\n",
    "    configs[!,:after_warmup] = config\n",
    "    \n",
    "    # begin MC steps and observable tracking\n",
    "    sumE = 0\n",
    "    sumE2 = 0\n",
    "    sumps = 0\n",
    "    accept_count = 0\n",
    "    println(\"Warmup steps over!\")\n",
    "    for step in (1:steps)\n",
    "        new_config,deltaE,delta_ac = update_function(config,energy,interactions,beta,energy_function)\n",
    "        config = new_config\n",
    "        new_energy = energy+deltaE\n",
    "        energy = new_energy\n",
    "        accept_count += delta_ac\n",
    "        \n",
    "        # calculations\n",
    "        sumE = sumE+energy\n",
    "        sumE2 = sumE2+energy^2\n",
    "#         ps,_,_ = spin_stiffness_function(beta,config,interactions,rows,cols)\n",
    "#         sumps += ps\n",
    "        ps = 0\n",
    "        push!(maindf, (sumE/(step*N),sumE2/step,ps,sumps/step,accept_count/(step)))\n",
    "    end\n",
    "    configs[!,:final] = config\n",
    "       \n",
    "    return maindf, configs\n",
    "end"
   ]
  },
  {
   "cell_type": "code",
   "execution_count": 133,
   "id": "d374bea1",
   "metadata": {},
   "outputs": [
    {
     "name": "stdout",
     "output_type": "stream",
     "text": [
      "  4.317465 seconds (49.20 M allocations: 2.052 GiB, 4.21% gc time)\n",
      "Warmup steps over!\n"
     ]
    },
    {
     "data": {
      "text/plain": [
       "(\u001b[1m100000×5 DataFrame\u001b[0m\n",
       "\u001b[1m    Row \u001b[0m│\u001b[1m avenergy \u001b[0m\u001b[1m avenergy2 \u001b[0m\u001b[1m pss     \u001b[0m\u001b[1m avpss   \u001b[0m\u001b[1m accept_rate \u001b[0m\n",
       "        │\u001b[90m Float64  \u001b[0m\u001b[90m Float64   \u001b[0m\u001b[90m Float64 \u001b[0m\u001b[90m Float64 \u001b[0m\u001b[90m Float64     \u001b[0m\n",
       "────────┼────────────────────────────────────────────────────\n",
       "      1 │ -1.29085    426.571      0.0      0.0   0.0\n",
       "      2 │ -1.29085    426.571      0.0      0.0   0.0\n",
       "      3 │ -1.29085    426.571      0.0      0.0   0.0\n",
       "      4 │ -1.29085    426.571      0.0      0.0   0.0\n",
       "      5 │ -1.29085    426.571      0.0      0.0   0.0\n",
       "      6 │ -1.29085    426.571      0.0      0.0   0.0\n",
       "      7 │ -1.29085    426.571      0.0      0.0   0.0\n",
       "      8 │ -1.29085    426.571      0.0      0.0   0.0\n",
       "      9 │ -1.29085    426.571      0.0      0.0   0.0\n",
       "     10 │ -1.29085    426.571      0.0      0.0   0.0\n",
       "     11 │ -1.29085    426.571      0.0      0.0   0.0\n",
       "   ⋮    │    ⋮          ⋮         ⋮        ⋮          ⋮\n",
       "  99991 │ -1.32493    449.753      0.0      0.0   1.00009e-5\n",
       "  99992 │ -1.32493    449.753      0.0      0.0   1.00008e-5\n",
       "  99993 │ -1.32493    449.753      0.0      0.0   1.00007e-5\n",
       "  99994 │ -1.32493    449.754      0.0      0.0   1.00006e-5\n",
       "  99995 │ -1.32493    449.754      0.0      0.0   1.00005e-5\n",
       "  99996 │ -1.32493    449.754      0.0      0.0   1.00004e-5\n",
       "  99997 │ -1.32493    449.755      0.0      0.0   1.00003e-5\n",
       "  99998 │ -1.32493    449.755      0.0      0.0   1.00002e-5\n",
       "  99999 │ -1.32493    449.755      0.0      0.0   1.00001e-5\n",
       " 100000 │ -1.32493    449.755      0.0      0.0   1.0e-5\n",
       "\u001b[36m                                           99979 rows omitted\u001b[0m, \u001b[1m16×3 DataFrame\u001b[0m\n",
       "\u001b[1m Row \u001b[0m│\u001b[1m initial  \u001b[0m\u001b[1m after_warmup \u001b[0m\u001b[1m final   \u001b[0m\n",
       "     │\u001b[90m Float64  \u001b[0m\u001b[90m Float64      \u001b[0m\u001b[90m Float64 \u001b[0m\n",
       "─────┼─────────────────────────────────\n",
       "   1 │ 0.835818      2.21286   4.51658\n",
       "   2 │ 1.13287       1.12478   3.30931\n",
       "   3 │ 1.52025       0.978773  5.7082\n",
       "   4 │ 2.66299       0.631007  5.45468\n",
       "   5 │ 4.61002       3.41159   5.35171\n",
       "   6 │ 5.59762       1.24091   3.86881\n",
       "   7 │ 5.81921       0.850644  5.58875\n",
       "   8 │ 2.98245       2.1786    6.16698\n",
       "   9 │ 4.10446       2.04833   5.64759\n",
       "  10 │ 4.75756       1.20083   4.61081\n",
       "  11 │ 4.01648       1.22371   5.57049\n",
       "  12 │ 3.7952        2.04654   5.96047\n",
       "  13 │ 1.31556       2.05726   4.72177\n",
       "  14 │ 4.21202       1.62569   4.82144\n",
       "  15 │ 4.26901       2.57482   5.60087\n",
       "  16 │ 2.99471       1.99688   6.03211)"
      ]
     },
     "execution_count": 133,
     "metadata": {},
     "output_type": "execute_result"
    }
   ],
   "source": [
    "MonteCarlo_XY(100,4,4,100000,100000,build_lattice_df,rows_and_columns,XY_update_function,Calculate_XY_Energy,spin_stiffness)\n"
   ]
  },
  {
   "cell_type": "markdown",
   "id": "e19cfe83",
   "metadata": {},
   "source": [
    "# Test"
   ]
  },
  {
   "cell_type": "code",
   "execution_count": 142,
   "id": "caa5b008",
   "metadata": {},
   "outputs": [
    {
     "name": "stdout",
     "output_type": "stream",
     "text": [
      "L = 4\n",
      "T = 0.0 and beta = Inf\n",
      "chain #1\n",
      "Warmup steps over!\n",
      " 56.343191 seconds (572.71 M allocations: 23.210 GiB, 4.90% gc time, 0.16% compilation time: 100% of which was recompilation)\n",
      "T = 0.4 and beta = 2.5\n",
      "chain #1\n",
      "Warmup steps over!\n",
      " 60.290060 seconds (572.40 M allocations: 23.194 GiB, 4.29% gc time)\n",
      "T = 0.8 and beta = 1.25\n",
      "chain #1\n",
      "Warmup steps over!\n",
      " 57.527184 seconds (572.40 M allocations: 23.194 GiB, 4.66% gc time)\n",
      "T = 1.2 and beta = 0.8333333333333334\n",
      "chain #1\n",
      "Warmup steps over!\n",
      " 61.597344 seconds (572.40 M allocations: 23.194 GiB, 4.85% gc time)\n",
      "T = 1.6 and beta = 0.625\n",
      "chain #1\n",
      "Warmup steps over!\n",
      " 60.544718 seconds (572.40 M allocations: 23.194 GiB, 5.01% gc time)\n",
      "T = 2.0 and beta = 0.5\n",
      "chain #1\n",
      "Warmup steps over!\n",
      " 58.484396 seconds (572.40 M allocations: 23.194 GiB, 4.67% gc time)\n",
      "T = 2.4 and beta = 0.4166666666666667\n",
      "chain #1\n",
      "Warmup steps over!\n",
      " 55.335832 seconds (572.40 M allocations: 23.194 GiB, 5.00% gc time)\n",
      "T = 2.8 and beta = 0.35714285714285715\n",
      "chain #1\n",
      "Warmup steps over!\n",
      " 54.628756 seconds (572.40 M allocations: 23.194 GiB, 5.23% gc time)\n",
      "T = 3.2 and beta = 0.3125\n",
      "chain #1\n",
      "Warmup steps over!\n",
      " 54.246561 seconds (572.40 M allocations: 23.194 GiB, 5.36% gc time)\n",
      "T = 3.6 and beta = 0.2777777777777778\n",
      "chain #1\n",
      "Warmup steps over!\n",
      " 54.012770 seconds (572.40 M allocations: 23.194 GiB, 5.08% gc time)\n",
      "T = 4.0 and beta = 0.25\n",
      "chain #1\n",
      "Warmup steps over!\n",
      " 53.919832 seconds (572.40 M allocations: 23.194 GiB, 4.61% gc time)\n"
     ]
    }
   ],
   "source": [
    "Ts = collect(0.:0.4:4.0)\n",
    "Ls = [4]\n",
    "N_chains = 1\n",
    "n_steps = 1000000\n",
    "warmup = Int(n_steps/10)\n",
    "energies = []\n",
    "acceptance_rates = []\n",
    "\n",
    "for L in Ls\n",
    "    println(\"L = \",L)\n",
    "    for T in Ts\n",
    "        beta = 1/T\n",
    "        println(\"T = \",T,\" and beta = \",beta)\n",
    "        T = round(T,digits=3)\n",
    "        for chain in 1:N_chains\n",
    "            println(\"chain #\",chain)\n",
    "            @time begin\n",
    "            avgs,configs = MonteCarlo_XY(beta,L,L,warmup,n_steps,build_lattice_df,rows_and_columns,XY_update_function,Calculate_XY_Energy,spin_stiffness);\n",
    "            end\n",
    "            append!(energies,avgs[!,\"avenergy\"][end])\n",
    "            append!(acceptance_rates,avgs[!,\"accept_rate\"][end])\n",
    "            CSV.write(\"./data/q2/L_$(L)/avgvals_T_$(T)_chain$(chain).csv\",  avgs, writeheader=true)\n",
    "            CSV.write(\"./data/q2/L_$(L)/configs_T_$(T)_chain$(chain).csv\",  configs, writeheader=true)\n",
    "        end\n",
    "    end\n",
    "end"
   ]
  },
  {
   "cell_type": "code",
   "execution_count": 143,
   "id": "d2695748",
   "metadata": {},
   "outputs": [],
   "source": [
    "using Plots"
   ]
  },
  {
   "cell_type": "code",
   "execution_count": 152,
   "id": "f596418d",
   "metadata": {},
   "outputs": [
    {
     "data": {
      "image/svg+xml": [
       "<?xml version=\"1.0\" encoding=\"utf-8\"?>\n",
       "<svg xmlns=\"http://www.w3.org/2000/svg\" xmlns:xlink=\"http://www.w3.org/1999/xlink\" width=\"600\" height=\"400\" viewBox=\"0 0 2400 1600\">\n",
       "<defs>\n",
       "  <clipPath id=\"clip840\">\n",
       "    <rect x=\"0\" y=\"0\" width=\"2400\" height=\"1600\"/>\n",
       "  </clipPath>\n",
       "</defs>\n",
       "<path clip-path=\"url(#clip840)\" d=\"M0 1600 L2400 1600 L2400 0 L0 0  Z\" fill=\"#ffffff\" fill-rule=\"evenodd\" fill-opacity=\"1\"/>\n",
       "<defs>\n",
       "  <clipPath id=\"clip841\">\n",
       "    <rect x=\"480\" y=\"0\" width=\"1681\" height=\"1600\"/>\n",
       "  </clipPath>\n",
       "</defs>\n",
       "<path clip-path=\"url(#clip840)\" d=\"M193.936 1486.45 L2352.76 1486.45 L2352.76 47.2441 L193.936 47.2441  Z\" fill=\"#ffffff\" fill-rule=\"evenodd\" fill-opacity=\"1\"/>\n",
       "<defs>\n",
       "  <clipPath id=\"clip842\">\n",
       "    <rect x=\"193\" y=\"47\" width=\"2160\" height=\"1440\"/>\n",
       "  </clipPath>\n",
       "</defs>\n",
       "<polyline clip-path=\"url(#clip842)\" style=\"stroke:#000000; stroke-linecap:round; stroke-linejoin:round; stroke-width:2; stroke-opacity:0.1; fill:none\" points=\"255.035,1486.45 255.035,47.2441 \"/>\n",
       "<polyline clip-path=\"url(#clip842)\" style=\"stroke:#000000; stroke-linecap:round; stroke-linejoin:round; stroke-width:2; stroke-opacity:0.1; fill:none\" points=\"764.19,1486.45 764.19,47.2441 \"/>\n",
       "<polyline clip-path=\"url(#clip842)\" style=\"stroke:#000000; stroke-linecap:round; stroke-linejoin:round; stroke-width:2; stroke-opacity:0.1; fill:none\" points=\"1273.35,1486.45 1273.35,47.2441 \"/>\n",
       "<polyline clip-path=\"url(#clip842)\" style=\"stroke:#000000; stroke-linecap:round; stroke-linejoin:round; stroke-width:2; stroke-opacity:0.1; fill:none\" points=\"1782.5,1486.45 1782.5,47.2441 \"/>\n",
       "<polyline clip-path=\"url(#clip842)\" style=\"stroke:#000000; stroke-linecap:round; stroke-linejoin:round; stroke-width:2; stroke-opacity:0.1; fill:none\" points=\"2291.66,1486.45 2291.66,47.2441 \"/>\n",
       "<polyline clip-path=\"url(#clip840)\" style=\"stroke:#000000; stroke-linecap:round; stroke-linejoin:round; stroke-width:4; stroke-opacity:1; fill:none\" points=\"193.936,1486.45 2352.76,1486.45 \"/>\n",
       "<polyline clip-path=\"url(#clip840)\" style=\"stroke:#000000; stroke-linecap:round; stroke-linejoin:round; stroke-width:4; stroke-opacity:1; fill:none\" points=\"255.035,1486.45 255.035,1467.55 \"/>\n",
       "<polyline clip-path=\"url(#clip840)\" style=\"stroke:#000000; stroke-linecap:round; stroke-linejoin:round; stroke-width:4; stroke-opacity:1; fill:none\" points=\"764.19,1486.45 764.19,1467.55 \"/>\n",
       "<polyline clip-path=\"url(#clip840)\" style=\"stroke:#000000; stroke-linecap:round; stroke-linejoin:round; stroke-width:4; stroke-opacity:1; fill:none\" points=\"1273.35,1486.45 1273.35,1467.55 \"/>\n",
       "<polyline clip-path=\"url(#clip840)\" style=\"stroke:#000000; stroke-linecap:round; stroke-linejoin:round; stroke-width:4; stroke-opacity:1; fill:none\" points=\"1782.5,1486.45 1782.5,1467.55 \"/>\n",
       "<polyline clip-path=\"url(#clip840)\" style=\"stroke:#000000; stroke-linecap:round; stroke-linejoin:round; stroke-width:4; stroke-opacity:1; fill:none\" points=\"2291.66,1486.45 2291.66,1467.55 \"/>\n",
       "<path clip-path=\"url(#clip840)\" d=\"M255.035 1517.37 Q251.424 1517.37 249.595 1520.93 Q247.789 1524.47 247.789 1531.6 Q247.789 1538.71 249.595 1542.27 Q251.424 1545.82 255.035 1545.82 Q258.669 1545.82 260.474 1542.27 Q262.303 1538.71 262.303 1531.6 Q262.303 1524.47 260.474 1520.93 Q258.669 1517.37 255.035 1517.37 M255.035 1513.66 Q260.845 1513.66 263.9 1518.27 Q266.979 1522.85 266.979 1531.6 Q266.979 1540.33 263.9 1544.94 Q260.845 1549.52 255.035 1549.52 Q249.225 1549.52 246.146 1544.94 Q243.09 1540.33 243.09 1531.6 Q243.09 1522.85 246.146 1518.27 Q249.225 1513.66 255.035 1513.66 Z\" fill=\"#000000\" fill-rule=\"nonzero\" fill-opacity=\"1\" /><path clip-path=\"url(#clip840)\" d=\"M754.572 1544.91 L762.211 1544.91 L762.211 1518.55 L753.901 1520.21 L753.901 1515.95 L762.165 1514.29 L766.841 1514.29 L766.841 1544.91 L774.48 1544.91 L774.48 1548.85 L754.572 1548.85 L754.572 1544.91 Z\" fill=\"#000000\" fill-rule=\"nonzero\" fill-opacity=\"1\" /><path clip-path=\"url(#clip840)\" d=\"M1268 1544.91 L1284.32 1544.91 L1284.32 1548.85 L1262.37 1548.85 L1262.37 1544.91 Q1265.04 1542.16 1269.62 1537.53 Q1274.23 1532.88 1275.41 1531.53 Q1277.65 1529.01 1278.53 1527.27 Q1279.43 1525.51 1279.43 1523.82 Q1279.43 1521.07 1277.49 1519.33 Q1275.57 1517.6 1272.47 1517.6 Q1270.27 1517.6 1267.81 1518.36 Q1265.38 1519.13 1262.61 1520.68 L1262.61 1515.95 Q1265.43 1514.82 1267.88 1514.24 Q1270.34 1513.66 1272.37 1513.66 Q1277.74 1513.66 1280.94 1516.35 Q1284.13 1519.03 1284.13 1523.52 Q1284.13 1525.65 1283.32 1527.57 Q1282.54 1529.47 1280.43 1532.07 Q1279.85 1532.74 1276.75 1535.95 Q1273.65 1539.15 1268 1544.91 Z\" fill=\"#000000\" fill-rule=\"nonzero\" fill-opacity=\"1\" /><path clip-path=\"url(#clip840)\" d=\"M1786.75 1530.21 Q1790.11 1530.93 1791.98 1533.2 Q1793.88 1535.47 1793.88 1538.8 Q1793.88 1543.92 1790.36 1546.72 Q1786.84 1549.52 1780.36 1549.52 Q1778.18 1549.52 1775.87 1549.08 Q1773.58 1548.66 1771.12 1547.81 L1771.12 1543.29 Q1773.07 1544.43 1775.38 1545.01 Q1777.7 1545.58 1780.22 1545.58 Q1784.62 1545.58 1786.91 1543.85 Q1789.23 1542.11 1789.23 1538.8 Q1789.23 1535.75 1787.07 1534.03 Q1784.94 1532.3 1781.12 1532.3 L1777.1 1532.3 L1777.1 1528.45 L1781.31 1528.45 Q1784.76 1528.45 1786.59 1527.09 Q1788.42 1525.7 1788.42 1523.11 Q1788.42 1520.45 1786.52 1519.03 Q1784.64 1517.6 1781.12 1517.6 Q1779.2 1517.6 1777 1518.01 Q1774.8 1518.43 1772.17 1519.31 L1772.17 1515.14 Q1774.83 1514.4 1777.14 1514.03 Q1779.48 1513.66 1781.54 1513.66 Q1786.86 1513.66 1789.97 1516.09 Q1793.07 1518.5 1793.07 1522.62 Q1793.07 1525.49 1791.43 1527.48 Q1789.78 1529.45 1786.75 1530.21 Z\" fill=\"#000000\" fill-rule=\"nonzero\" fill-opacity=\"1\" /><path clip-path=\"url(#clip840)\" d=\"M2294.67 1518.36 L2282.86 1536.81 L2294.67 1536.81 L2294.67 1518.36 M2293.44 1514.29 L2299.32 1514.29 L2299.32 1536.81 L2304.25 1536.81 L2304.25 1540.7 L2299.32 1540.7 L2299.32 1548.85 L2294.67 1548.85 L2294.67 1540.7 L2279.06 1540.7 L2279.06 1536.19 L2293.44 1514.29 Z\" fill=\"#000000\" fill-rule=\"nonzero\" fill-opacity=\"1\" /><polyline clip-path=\"url(#clip842)\" style=\"stroke:#000000; stroke-linecap:round; stroke-linejoin:round; stroke-width:2; stroke-opacity:0.1; fill:none\" points=\"193.936,1165.01 2352.76,1165.01 \"/>\n",
       "<polyline clip-path=\"url(#clip842)\" style=\"stroke:#000000; stroke-linecap:round; stroke-linejoin:round; stroke-width:2; stroke-opacity:0.1; fill:none\" points=\"193.936,799.473 2352.76,799.473 \"/>\n",
       "<polyline clip-path=\"url(#clip842)\" style=\"stroke:#000000; stroke-linecap:round; stroke-linejoin:round; stroke-width:2; stroke-opacity:0.1; fill:none\" points=\"193.936,433.939 2352.76,433.939 \"/>\n",
       "<polyline clip-path=\"url(#clip842)\" style=\"stroke:#000000; stroke-linecap:round; stroke-linejoin:round; stroke-width:2; stroke-opacity:0.1; fill:none\" points=\"193.936,68.4056 2352.76,68.4056 \"/>\n",
       "<polyline clip-path=\"url(#clip840)\" style=\"stroke:#000000; stroke-linecap:round; stroke-linejoin:round; stroke-width:4; stroke-opacity:1; fill:none\" points=\"193.936,1486.45 193.936,47.2441 \"/>\n",
       "<polyline clip-path=\"url(#clip840)\" style=\"stroke:#000000; stroke-linecap:round; stroke-linejoin:round; stroke-width:4; stroke-opacity:1; fill:none\" points=\"193.936,1165.01 212.834,1165.01 \"/>\n",
       "<polyline clip-path=\"url(#clip840)\" style=\"stroke:#000000; stroke-linecap:round; stroke-linejoin:round; stroke-width:4; stroke-opacity:1; fill:none\" points=\"193.936,799.473 212.834,799.473 \"/>\n",
       "<polyline clip-path=\"url(#clip840)\" style=\"stroke:#000000; stroke-linecap:round; stroke-linejoin:round; stroke-width:4; stroke-opacity:1; fill:none\" points=\"193.936,433.939 212.834,433.939 \"/>\n",
       "<polyline clip-path=\"url(#clip840)\" style=\"stroke:#000000; stroke-linecap:round; stroke-linejoin:round; stroke-width:4; stroke-opacity:1; fill:none\" points=\"193.936,68.4056 212.834,68.4056 \"/>\n",
       "<path clip-path=\"url(#clip840)\" d=\"M50.9921 1165.46 L80.6679 1165.46 L80.6679 1169.39 L50.9921 1169.39 L50.9921 1165.46 Z\" fill=\"#000000\" fill-rule=\"nonzero\" fill-opacity=\"1\" /><path clip-path=\"url(#clip840)\" d=\"M91.5706 1178.35 L99.2095 1178.35 L99.2095 1151.99 L90.8993 1153.65 L90.8993 1149.39 L99.1632 1147.73 L103.839 1147.73 L103.839 1178.35 L111.478 1178.35 L111.478 1182.29 L91.5706 1182.29 L91.5706 1178.35 Z\" fill=\"#000000\" fill-rule=\"nonzero\" fill-opacity=\"1\" /><path clip-path=\"url(#clip840)\" d=\"M120.922 1176.41 L125.807 1176.41 L125.807 1182.29 L120.922 1182.29 L120.922 1176.41 Z\" fill=\"#000000\" fill-rule=\"nonzero\" fill-opacity=\"1\" /><path clip-path=\"url(#clip840)\" d=\"M145.992 1150.81 Q142.381 1150.81 140.552 1154.37 Q138.746 1157.91 138.746 1165.04 Q138.746 1172.15 140.552 1175.71 Q142.381 1179.25 145.992 1179.25 Q149.626 1179.25 151.431 1175.71 Q153.26 1172.15 153.26 1165.04 Q153.26 1157.91 151.431 1154.37 Q149.626 1150.81 145.992 1150.81 M145.992 1147.1 Q151.802 1147.1 154.857 1151.71 Q157.936 1156.29 157.936 1165.04 Q157.936 1173.77 154.857 1178.38 Q151.802 1182.96 145.992 1182.96 Q140.181 1182.96 137.103 1178.38 Q134.047 1173.77 134.047 1165.04 Q134.047 1156.29 137.103 1151.71 Q140.181 1147.1 145.992 1147.1 Z\" fill=\"#000000\" fill-rule=\"nonzero\" fill-opacity=\"1\" /><path clip-path=\"url(#clip840)\" d=\"M51.9875 799.925 L81.6633 799.925 L81.6633 803.86 L51.9875 803.86 L51.9875 799.925 Z\" fill=\"#000000\" fill-rule=\"nonzero\" fill-opacity=\"1\" /><path clip-path=\"url(#clip840)\" d=\"M101.756 785.272 Q98.1447 785.272 96.316 788.837 Q94.5104 792.378 94.5104 799.508 Q94.5104 806.614 96.316 810.179 Q98.1447 813.721 101.756 813.721 Q105.39 813.721 107.196 810.179 Q109.024 806.614 109.024 799.508 Q109.024 792.378 107.196 788.837 Q105.39 785.272 101.756 785.272 M101.756 781.568 Q107.566 781.568 110.621 786.175 Q113.7 790.758 113.7 799.508 Q113.7 808.235 110.621 812.841 Q107.566 817.425 101.756 817.425 Q95.9456 817.425 92.8669 812.841 Q89.8114 808.235 89.8114 799.508 Q89.8114 790.758 92.8669 786.175 Q95.9456 781.568 101.756 781.568 Z\" fill=\"#000000\" fill-rule=\"nonzero\" fill-opacity=\"1\" /><path clip-path=\"url(#clip840)\" d=\"M121.918 810.874 L126.802 810.874 L126.802 816.753 L121.918 816.753 L121.918 810.874 Z\" fill=\"#000000\" fill-rule=\"nonzero\" fill-opacity=\"1\" /><path clip-path=\"url(#clip840)\" d=\"M137.033 782.193 L155.39 782.193 L155.39 786.128 L141.316 786.128 L141.316 794.601 Q142.334 794.253 143.353 794.091 Q144.371 793.906 145.39 793.906 Q151.177 793.906 154.556 797.077 Q157.936 800.249 157.936 805.665 Q157.936 811.244 154.464 814.346 Q150.992 817.425 144.672 817.425 Q142.496 817.425 140.228 817.054 Q137.982 816.684 135.575 815.943 L135.575 811.244 Q137.658 812.378 139.881 812.934 Q142.103 813.489 144.58 813.489 Q148.584 813.489 150.922 811.383 Q153.26 809.276 153.26 805.665 Q153.26 802.054 150.922 799.948 Q148.584 797.841 144.58 797.841 Q142.705 797.841 140.83 798.258 Q138.978 798.675 137.033 799.554 L137.033 782.193 Z\" fill=\"#000000\" fill-rule=\"nonzero\" fill-opacity=\"1\" /><path clip-path=\"url(#clip840)\" d=\"M100.76 419.738 Q97.1493 419.738 95.3206 423.303 Q93.515 426.845 93.515 433.974 Q93.515 441.081 95.3206 444.645 Q97.1493 448.187 100.76 448.187 Q104.395 448.187 106.2 444.645 Q108.029 441.081 108.029 433.974 Q108.029 426.845 106.2 423.303 Q104.395 419.738 100.76 419.738 M100.76 416.034 Q106.571 416.034 109.626 420.641 Q112.705 425.224 112.705 433.974 Q112.705 442.701 109.626 447.307 Q106.571 451.891 100.76 451.891 Q94.9502 451.891 91.8715 447.307 Q88.816 442.701 88.816 433.974 Q88.816 425.224 91.8715 420.641 Q94.9502 416.034 100.76 416.034 Z\" fill=\"#000000\" fill-rule=\"nonzero\" fill-opacity=\"1\" /><path clip-path=\"url(#clip840)\" d=\"M120.922 445.34 L125.807 445.34 L125.807 451.219 L120.922 451.219 L120.922 445.34 Z\" fill=\"#000000\" fill-rule=\"nonzero\" fill-opacity=\"1\" /><path clip-path=\"url(#clip840)\" d=\"M145.992 419.738 Q142.381 419.738 140.552 423.303 Q138.746 426.845 138.746 433.974 Q138.746 441.081 140.552 444.645 Q142.381 448.187 145.992 448.187 Q149.626 448.187 151.431 444.645 Q153.26 441.081 153.26 433.974 Q153.26 426.845 151.431 423.303 Q149.626 419.738 145.992 419.738 M145.992 416.034 Q151.802 416.034 154.857 420.641 Q157.936 425.224 157.936 433.974 Q157.936 442.701 154.857 447.307 Q151.802 451.891 145.992 451.891 Q140.181 451.891 137.103 447.307 Q134.047 442.701 134.047 433.974 Q134.047 425.224 137.103 420.641 Q140.181 416.034 145.992 416.034 Z\" fill=\"#000000\" fill-rule=\"nonzero\" fill-opacity=\"1\" /><path clip-path=\"url(#clip840)\" d=\"M101.756 54.2043 Q98.1447 54.2043 96.316 57.7691 Q94.5104 61.3107 94.5104 68.4403 Q94.5104 75.5468 96.316 79.1116 Q98.1447 82.6532 101.756 82.6532 Q105.39 82.6532 107.196 79.1116 Q109.024 75.5468 109.024 68.4403 Q109.024 61.3107 107.196 57.7691 Q105.39 54.2043 101.756 54.2043 M101.756 50.5006 Q107.566 50.5006 110.621 55.1071 Q113.7 59.6904 113.7 68.4403 Q113.7 77.1671 110.621 81.7736 Q107.566 86.3569 101.756 86.3569 Q95.9456 86.3569 92.8669 81.7736 Q89.8114 77.1671 89.8114 68.4403 Q89.8114 59.6904 92.8669 55.1071 Q95.9456 50.5006 101.756 50.5006 Z\" fill=\"#000000\" fill-rule=\"nonzero\" fill-opacity=\"1\" /><path clip-path=\"url(#clip840)\" d=\"M121.918 79.806 L126.802 79.806 L126.802 85.6856 L121.918 85.6856 L121.918 79.806 Z\" fill=\"#000000\" fill-rule=\"nonzero\" fill-opacity=\"1\" /><path clip-path=\"url(#clip840)\" d=\"M137.033 51.1256 L155.39 51.1256 L155.39 55.0608 L141.316 55.0608 L141.316 63.5329 Q142.334 63.1857 143.353 63.0237 Q144.371 62.8385 145.39 62.8385 Q151.177 62.8385 154.556 66.0098 Q157.936 69.1811 157.936 74.5977 Q157.936 80.1764 154.464 83.2782 Q150.992 86.3569 144.672 86.3569 Q142.496 86.3569 140.228 85.9865 Q137.982 85.6162 135.575 84.8754 L135.575 80.1764 Q137.658 81.3106 139.881 81.8662 Q142.103 82.4217 144.58 82.4217 Q148.584 82.4217 150.922 80.3153 Q153.26 78.2088 153.26 74.5977 Q153.26 70.9866 150.922 68.8801 Q148.584 66.7737 144.58 66.7737 Q142.705 66.7737 140.83 67.1903 Q138.978 67.607 137.033 68.4866 L137.033 51.1256 Z\" fill=\"#000000\" fill-rule=\"nonzero\" fill-opacity=\"1\" /><polyline clip-path=\"url(#clip842)\" style=\"stroke:#009af9; stroke-linecap:round; stroke-linejoin:round; stroke-width:4; stroke-opacity:1; fill:none\" points=\"255.035,1384.71 458.697,1396.01 662.359,1390.93 866.021,1262.5 1069.68,1040.33 1273.35,864.876 1477.01,781.397 1680.67,718.573 1884.33,685.305 2087.99,645.183 2291.66,624.117 \"/>\n",
       "<polyline clip-path=\"url(#clip842)\" style=\"stroke:#e26f46; stroke-linecap:round; stroke-linejoin:round; stroke-width:4; stroke-opacity:1; fill:none\" points=\"255.035,1445.72 458.697,1421.08 662.359,1400.68 866.021,1231.98 1069.68,989.802 1273.35,872.218 1477.01,784.868 1680.67,719.627 1884.33,678.509 2087.99,648.479 2291.66,625.008 \"/>\n",
       "<polyline clip-path=\"url(#clip842)\" style=\"stroke:#3da44d; stroke-linecap:round; stroke-linejoin:round; stroke-width:4; stroke-opacity:1; fill:none\" points=\"255.035,433.939 458.697,433.937 662.359,433.894 866.021,429.603 1069.68,395.41 1273.35,339.55 1477.01,277.108 1680.67,217.209 1884.33,166.165 2087.99,124.523 2291.66,87.9763 \"/>\n",
       "<polyline clip-path=\"url(#clip842)\" style=\"stroke:#c271d2; stroke-linecap:round; stroke-linejoin:round; stroke-width:4; stroke-opacity:1; fill:none\" points=\"255.035,433.939 458.697,433.937 662.359,433.894 866.021,429.603 1069.68,395.41 1273.35,339.55 1477.01,277.108 1680.67,217.209 1884.33,166.165 2087.99,124.523 2291.66,87.9763 \"/>\n",
       "<polyline clip-path=\"url(#clip842)\" style=\"stroke:#ac8d18; stroke-linecap:round; stroke-linejoin:round; stroke-width:4; stroke-opacity:1; fill:none\" points=\"255.035,433.939 458.697,433.937 662.359,433.894 866.021,429.603 1069.68,395.41 1273.35,339.55 1477.01,277.108 1680.67,217.209 1884.33,166.165 2087.99,124.523 2291.66,87.9763 \"/>\n",
       "<polyline clip-path=\"url(#clip842)\" style=\"stroke:#00a9ad; stroke-linecap:round; stroke-linejoin:round; stroke-width:4; stroke-opacity:1; fill:none\" points=\"255.035,1445.72 458.697,1421.08 662.359,1400.68 866.021,1231.98 1069.68,989.802 1273.35,872.218 1477.01,784.868 1680.67,719.627 1884.33,678.509 2087.99,648.479 2291.66,625.008 \"/>\n",
       "<polyline clip-path=\"url(#clip842)\" style=\"stroke:#ed5d92; stroke-linecap:round; stroke-linejoin:round; stroke-width:4; stroke-opacity:1; fill:none\" points=\"255.035,433.939 458.697,433.937 662.359,433.894 866.021,429.603 1069.68,395.41 1273.35,339.55 1477.01,277.108 1680.67,217.209 1884.33,166.165 2087.99,124.523 2291.66,87.9763 \"/>\n",
       "<polyline clip-path=\"url(#clip842)\" style=\"stroke:#c68125; stroke-linecap:round; stroke-linejoin:round; stroke-width:4; stroke-opacity:1; fill:none\" points=\"255.035,1445.72 458.697,1421.08 662.359,1400.68 866.021,1231.98 1069.68,989.802 1273.35,872.218 1477.01,784.868 1680.67,719.627 1884.33,678.509 2087.99,648.479 2291.66,625.008 \"/>\n",
       "<polyline clip-path=\"url(#clip842)\" style=\"stroke:#00a98d; stroke-linecap:round; stroke-linejoin:round; stroke-width:4; stroke-opacity:1; fill:none\" points=\"255.035,433.939 458.697,433.937 662.359,433.894 866.021,429.603 1069.68,395.41 1273.35,339.55 1477.01,277.108 1680.67,217.209 1884.33,166.165 2087.99,124.523 2291.66,87.9763 \"/>\n",
       "<polyline clip-path=\"url(#clip842)\" style=\"stroke:#8e971d; stroke-linecap:round; stroke-linejoin:round; stroke-width:4; stroke-opacity:1; fill:none\" points=\"255.035,1445.72 458.697,1421.08 662.359,1400.68 866.021,1231.98 1069.68,989.802 1273.35,872.218 1477.01,784.868 1680.67,719.627 1884.33,678.509 2087.99,648.479 2291.66,625.008 \"/>\n",
       "<path clip-path=\"url(#clip840)\" d=\"M265.897 665.458 L565.598 665.458 L565.598 95.2176 L265.897 95.2176  Z\" fill=\"#ffffff\" fill-rule=\"evenodd\" fill-opacity=\"1\"/>\n",
       "<polyline clip-path=\"url(#clip840)\" style=\"stroke:#000000; stroke-linecap:round; stroke-linejoin:round; stroke-width:4; stroke-opacity:1; fill:none\" points=\"265.897,665.458 565.598,665.458 565.598,95.2176 265.897,95.2176 265.897,665.458 \"/>\n",
       "<polyline clip-path=\"url(#clip840)\" style=\"stroke:#009af9; stroke-linecap:round; stroke-linejoin:round; stroke-width:4; stroke-opacity:1; fill:none\" points=\"289.884,147.058 433.805,147.058 \"/>\n",
       "<path clip-path=\"url(#clip840)\" d=\"M471.634 166.745 Q469.829 171.375 468.116 172.787 Q466.403 174.199 463.532 174.199 L460.13 174.199 L460.13 170.634 L462.63 170.634 Q464.389 170.634 465.361 169.8 Q466.333 168.967 467.514 165.865 L468.278 163.921 L457.792 138.412 L462.306 138.412 L470.407 158.689 L478.509 138.412 L483.023 138.412 L471.634 166.745 Z\" fill=\"#000000\" fill-rule=\"nonzero\" fill-opacity=\"1\" /><path clip-path=\"url(#clip840)\" d=\"M490.315 160.402 L497.954 160.402 L497.954 134.037 L489.643 135.703 L489.643 131.444 L497.907 129.778 L502.583 129.778 L502.583 160.402 L510.222 160.402 L510.222 164.338 L490.315 164.338 L490.315 160.402 Z\" fill=\"#000000\" fill-rule=\"nonzero\" fill-opacity=\"1\" /><polyline clip-path=\"url(#clip840)\" style=\"stroke:#e26f46; stroke-linecap:round; stroke-linejoin:round; stroke-width:4; stroke-opacity:1; fill:none\" points=\"289.884,198.898 433.805,198.898 \"/>\n",
       "<path clip-path=\"url(#clip840)\" d=\"M471.634 218.585 Q469.829 223.215 468.116 224.627 Q466.403 226.039 463.532 226.039 L460.13 226.039 L460.13 222.474 L462.63 222.474 Q464.389 222.474 465.361 221.64 Q466.333 220.807 467.514 217.705 L468.278 215.761 L457.792 190.252 L462.306 190.252 L470.407 210.529 L478.509 190.252 L483.023 190.252 L471.634 218.585 Z\" fill=\"#000000\" fill-rule=\"nonzero\" fill-opacity=\"1\" /><path clip-path=\"url(#clip840)\" d=\"M493.532 212.242 L509.852 212.242 L509.852 216.178 L487.907 216.178 L487.907 212.242 Q490.569 209.488 495.153 204.858 Q499.759 200.205 500.94 198.863 Q503.185 196.34 504.065 194.604 Q504.967 192.844 504.967 191.155 Q504.967 188.4 503.023 186.664 Q501.102 184.928 498 184.928 Q495.801 184.928 493.347 185.692 Q490.917 186.455 488.139 188.006 L488.139 183.284 Q490.963 182.15 493.417 181.571 Q495.87 180.993 497.907 180.993 Q503.278 180.993 506.472 183.678 Q509.666 186.363 509.666 190.854 Q509.666 192.983 508.856 194.905 Q508.069 196.803 505.963 199.395 Q505.384 200.067 502.282 203.284 Q499.18 206.479 493.532 212.242 Z\" fill=\"#000000\" fill-rule=\"nonzero\" fill-opacity=\"1\" /><polyline clip-path=\"url(#clip840)\" style=\"stroke:#3da44d; stroke-linecap:round; stroke-linejoin:round; stroke-width:4; stroke-opacity:1; fill:none\" points=\"289.884,250.738 433.805,250.738 \"/>\n",
       "<path clip-path=\"url(#clip840)\" d=\"M471.634 270.425 Q469.829 275.055 468.116 276.467 Q466.403 277.879 463.532 277.879 L460.13 277.879 L460.13 274.314 L462.63 274.314 Q464.389 274.314 465.361 273.48 Q466.333 272.647 467.514 269.545 L468.278 267.601 L457.792 242.092 L462.306 242.092 L470.407 262.369 L478.509 242.092 L483.023 242.092 L471.634 270.425 Z\" fill=\"#000000\" fill-rule=\"nonzero\" fill-opacity=\"1\" /><path clip-path=\"url(#clip840)\" d=\"M503.671 249.383 Q507.028 250.101 508.903 252.369 Q510.801 254.638 510.801 257.971 Q510.801 263.087 507.282 265.888 Q503.764 268.689 497.282 268.689 Q495.106 268.689 492.792 268.249 Q490.5 267.832 488.046 266.976 L488.046 262.462 Q489.991 263.596 492.305 264.175 Q494.62 264.754 497.143 264.754 Q501.542 264.754 503.833 263.018 Q506.148 261.281 506.148 257.971 Q506.148 254.916 503.995 253.203 Q501.866 251.467 498.046 251.467 L494.018 251.467 L494.018 247.624 L498.231 247.624 Q501.68 247.624 503.509 246.258 Q505.338 244.87 505.338 242.277 Q505.338 239.615 503.44 238.203 Q501.565 236.768 498.046 236.768 Q496.125 236.768 493.926 237.184 Q491.727 237.601 489.088 238.481 L489.088 234.314 Q491.75 233.573 494.065 233.203 Q496.403 232.833 498.463 232.833 Q503.787 232.833 506.889 235.263 Q509.991 237.67 509.991 241.791 Q509.991 244.661 508.347 246.652 Q506.704 248.62 503.671 249.383 Z\" fill=\"#000000\" fill-rule=\"nonzero\" fill-opacity=\"1\" /><polyline clip-path=\"url(#clip840)\" style=\"stroke:#c271d2; stroke-linecap:round; stroke-linejoin:round; stroke-width:4; stroke-opacity:1; fill:none\" points=\"289.884,302.578 433.805,302.578 \"/>\n",
       "<path clip-path=\"url(#clip840)\" d=\"M471.634 322.265 Q469.829 326.895 468.116 328.307 Q466.403 329.719 463.532 329.719 L460.13 329.719 L460.13 326.154 L462.63 326.154 Q464.389 326.154 465.361 325.32 Q466.333 324.487 467.514 321.385 L468.278 319.441 L457.792 293.932 L462.306 293.932 L470.407 314.209 L478.509 293.932 L483.023 293.932 L471.634 322.265 Z\" fill=\"#000000\" fill-rule=\"nonzero\" fill-opacity=\"1\" /><path clip-path=\"url(#clip840)\" d=\"M502.352 289.372 L490.546 307.821 L502.352 307.821 L502.352 289.372 M501.125 285.298 L507.004 285.298 L507.004 307.821 L511.935 307.821 L511.935 311.709 L507.004 311.709 L507.004 319.858 L502.352 319.858 L502.352 311.709 L486.75 311.709 L486.75 307.196 L501.125 285.298 Z\" fill=\"#000000\" fill-rule=\"nonzero\" fill-opacity=\"1\" /><polyline clip-path=\"url(#clip840)\" style=\"stroke:#ac8d18; stroke-linecap:round; stroke-linejoin:round; stroke-width:4; stroke-opacity:1; fill:none\" points=\"289.884,354.418 433.805,354.418 \"/>\n",
       "<path clip-path=\"url(#clip840)\" d=\"M471.634 374.105 Q469.829 378.735 468.116 380.147 Q466.403 381.559 463.532 381.559 L460.13 381.559 L460.13 377.994 L462.63 377.994 Q464.389 377.994 465.361 377.16 Q466.333 376.327 467.514 373.225 L468.278 371.281 L457.792 345.772 L462.306 345.772 L470.407 366.049 L478.509 345.772 L483.023 345.772 L471.634 374.105 Z\" fill=\"#000000\" fill-rule=\"nonzero\" fill-opacity=\"1\" /><path clip-path=\"url(#clip840)\" d=\"M489.551 337.138 L507.907 337.138 L507.907 341.073 L493.833 341.073 L493.833 349.545 Q494.852 349.198 495.87 349.036 Q496.889 348.85 497.907 348.85 Q503.694 348.85 507.074 352.022 Q510.454 355.193 510.454 360.61 Q510.454 366.188 506.981 369.29 Q503.509 372.369 497.19 372.369 Q495.014 372.369 492.745 371.998 Q490.5 371.628 488.093 370.887 L488.093 366.188 Q490.176 367.323 492.398 367.878 Q494.62 368.434 497.097 368.434 Q501.102 368.434 503.44 366.327 Q505.778 364.221 505.778 360.61 Q505.778 356.999 503.44 354.892 Q501.102 352.786 497.097 352.786 Q495.222 352.786 493.347 353.202 Q491.495 353.619 489.551 354.499 L489.551 337.138 Z\" fill=\"#000000\" fill-rule=\"nonzero\" fill-opacity=\"1\" /><polyline clip-path=\"url(#clip840)\" style=\"stroke:#00a9ad; stroke-linecap:round; stroke-linejoin:round; stroke-width:4; stroke-opacity:1; fill:none\" points=\"289.884,406.258 433.805,406.258 \"/>\n",
       "<path clip-path=\"url(#clip840)\" d=\"M471.634 425.945 Q469.829 430.575 468.116 431.987 Q466.403 433.399 463.532 433.399 L460.13 433.399 L460.13 429.834 L462.63 429.834 Q464.389 429.834 465.361 429 Q466.333 428.167 467.514 425.065 L468.278 423.121 L457.792 397.612 L462.306 397.612 L470.407 417.889 L478.509 397.612 L483.023 397.612 L471.634 425.945 Z\" fill=\"#000000\" fill-rule=\"nonzero\" fill-opacity=\"1\" /><path clip-path=\"url(#clip840)\" d=\"M500.083 404.394 Q496.935 404.394 495.083 406.547 Q493.255 408.7 493.255 412.45 Q493.255 416.176 495.083 418.352 Q496.935 420.505 500.083 420.505 Q503.231 420.505 505.06 418.352 Q506.912 416.176 506.912 412.45 Q506.912 408.7 505.06 406.547 Q503.231 404.394 500.083 404.394 M509.366 389.741 L509.366 394.001 Q507.606 393.167 505.801 392.728 Q504.018 392.288 502.259 392.288 Q497.63 392.288 495.176 395.413 Q492.745 398.538 492.398 404.857 Q493.764 402.843 495.824 401.778 Q497.884 400.69 500.361 400.69 Q505.569 400.69 508.579 403.862 Q511.611 407.01 511.611 412.45 Q511.611 417.774 508.463 420.991 Q505.315 424.209 500.083 424.209 Q494.088 424.209 490.917 419.626 Q487.745 415.019 487.745 406.292 Q487.745 398.098 491.634 393.237 Q495.523 388.353 502.074 388.353 Q503.833 388.353 505.616 388.7 Q507.421 389.047 509.366 389.741 Z\" fill=\"#000000\" fill-rule=\"nonzero\" fill-opacity=\"1\" /><polyline clip-path=\"url(#clip840)\" style=\"stroke:#ed5d92; stroke-linecap:round; stroke-linejoin:round; stroke-width:4; stroke-opacity:1; fill:none\" points=\"289.884,458.098 433.805,458.098 \"/>\n",
       "<path clip-path=\"url(#clip840)\" d=\"M471.634 477.785 Q469.829 482.415 468.116 483.827 Q466.403 485.239 463.532 485.239 L460.13 485.239 L460.13 481.674 L462.63 481.674 Q464.389 481.674 465.361 480.84 Q466.333 480.007 467.514 476.905 L468.278 474.961 L457.792 449.452 L462.306 449.452 L470.407 469.729 L478.509 449.452 L483.023 449.452 L471.634 477.785 Z\" fill=\"#000000\" fill-rule=\"nonzero\" fill-opacity=\"1\" /><path clip-path=\"url(#clip840)\" d=\"M488.324 440.818 L510.546 440.818 L510.546 442.808 L498 475.378 L493.116 475.378 L504.921 444.753 L488.324 444.753 L488.324 440.818 Z\" fill=\"#000000\" fill-rule=\"nonzero\" fill-opacity=\"1\" /><polyline clip-path=\"url(#clip840)\" style=\"stroke:#c68125; stroke-linecap:round; stroke-linejoin:round; stroke-width:4; stroke-opacity:1; fill:none\" points=\"289.884,509.938 433.805,509.938 \"/>\n",
       "<path clip-path=\"url(#clip840)\" d=\"M471.634 529.625 Q469.829 534.255 468.116 535.667 Q466.403 537.079 463.532 537.079 L460.13 537.079 L460.13 533.514 L462.63 533.514 Q464.389 533.514 465.361 532.68 Q466.333 531.847 467.514 528.745 L468.278 526.801 L457.792 501.292 L462.306 501.292 L470.407 521.569 L478.509 501.292 L483.023 501.292 L471.634 529.625 Z\" fill=\"#000000\" fill-rule=\"nonzero\" fill-opacity=\"1\" /><path clip-path=\"url(#clip840)\" d=\"M499.505 510.806 Q496.171 510.806 494.25 512.588 Q492.352 514.37 492.352 517.495 Q492.352 520.62 494.25 522.403 Q496.171 524.185 499.505 524.185 Q502.838 524.185 504.759 522.403 Q506.68 520.597 506.68 517.495 Q506.68 514.37 504.759 512.588 Q502.861 510.806 499.505 510.806 M494.829 508.815 Q491.819 508.074 490.13 506.014 Q488.463 503.954 488.463 500.991 Q488.463 496.847 491.403 494.44 Q494.366 492.033 499.505 492.033 Q504.667 492.033 507.606 494.44 Q510.546 496.847 510.546 500.991 Q510.546 503.954 508.856 506.014 Q507.19 508.074 504.204 508.815 Q507.583 509.602 509.458 511.894 Q511.356 514.185 511.356 517.495 Q511.356 522.519 508.278 525.204 Q505.222 527.889 499.505 527.889 Q493.787 527.889 490.708 525.204 Q487.653 522.519 487.653 517.495 Q487.653 514.185 489.551 511.894 Q491.449 509.602 494.829 508.815 M493.116 501.431 Q493.116 504.116 494.782 505.62 Q496.472 507.125 499.505 507.125 Q502.514 507.125 504.204 505.62 Q505.917 504.116 505.917 501.431 Q505.917 498.745 504.204 497.241 Q502.514 495.736 499.505 495.736 Q496.472 495.736 494.782 497.241 Q493.116 498.745 493.116 501.431 Z\" fill=\"#000000\" fill-rule=\"nonzero\" fill-opacity=\"1\" /><polyline clip-path=\"url(#clip840)\" style=\"stroke:#00a98d; stroke-linecap:round; stroke-linejoin:round; stroke-width:4; stroke-opacity:1; fill:none\" points=\"289.884,561.778 433.805,561.778 \"/>\n",
       "<path clip-path=\"url(#clip840)\" d=\"M471.634 581.465 Q469.829 586.095 468.116 587.507 Q466.403 588.919 463.532 588.919 L460.13 588.919 L460.13 585.354 L462.63 585.354 Q464.389 585.354 465.361 584.52 Q466.333 583.687 467.514 580.585 L468.278 578.641 L457.792 553.132 L462.306 553.132 L470.407 573.409 L478.509 553.132 L483.023 553.132 L471.634 581.465 Z\" fill=\"#000000\" fill-rule=\"nonzero\" fill-opacity=\"1\" /><path clip-path=\"url(#clip840)\" d=\"M489.643 578.34 L489.643 574.081 Q491.403 574.914 493.208 575.354 Q495.014 575.794 496.75 575.794 Q501.379 575.794 503.81 572.692 Q506.264 569.567 506.611 563.224 Q505.268 565.215 503.208 566.28 Q501.148 567.345 498.648 567.345 Q493.463 567.345 490.43 564.22 Q487.421 561.072 487.421 555.632 Q487.421 550.308 490.569 547.09 Q493.717 543.873 498.949 543.873 Q504.944 543.873 508.092 548.479 Q511.264 553.062 511.264 561.812 Q511.264 569.984 507.375 574.868 Q503.509 579.729 496.958 579.729 Q495.199 579.729 493.393 579.382 Q491.588 579.034 489.643 578.34 M498.949 563.687 Q502.097 563.687 503.926 561.534 Q505.778 559.382 505.778 555.632 Q505.778 551.905 503.926 549.752 Q502.097 547.576 498.949 547.576 Q495.801 547.576 493.949 549.752 Q492.12 551.905 492.12 555.632 Q492.12 559.382 493.949 561.534 Q495.801 563.687 498.949 563.687 Z\" fill=\"#000000\" fill-rule=\"nonzero\" fill-opacity=\"1\" /><polyline clip-path=\"url(#clip840)\" style=\"stroke:#8e971d; stroke-linecap:round; stroke-linejoin:round; stroke-width:4; stroke-opacity:1; fill:none\" points=\"289.884,613.618 433.805,613.618 \"/>\n",
       "<path clip-path=\"url(#clip840)\" d=\"M471.634 633.305 Q469.829 637.935 468.116 639.347 Q466.403 640.759 463.532 640.759 L460.13 640.759 L460.13 637.194 L462.63 637.194 Q464.389 637.194 465.361 636.36 Q466.333 635.527 467.514 632.425 L468.278 630.481 L457.792 604.972 L462.306 604.972 L470.407 625.249 L478.509 604.972 L483.023 604.972 L471.634 633.305 Z\" fill=\"#000000\" fill-rule=\"nonzero\" fill-opacity=\"1\" /><path clip-path=\"url(#clip840)\" d=\"M490.315 626.962 L497.954 626.962 L497.954 600.597 L489.643 602.263 L489.643 598.004 L497.907 596.338 L502.583 596.338 L502.583 626.962 L510.222 626.962 L510.222 630.898 L490.315 630.898 L490.315 626.962 Z\" fill=\"#000000\" fill-rule=\"nonzero\" fill-opacity=\"1\" /><path clip-path=\"url(#clip840)\" d=\"M529.666 599.416 Q526.055 599.416 524.227 602.981 Q522.421 606.523 522.421 613.652 Q522.421 620.759 524.227 624.324 Q526.055 627.865 529.666 627.865 Q533.301 627.865 535.106 624.324 Q536.935 620.759 536.935 613.652 Q536.935 606.523 535.106 602.981 Q533.301 599.416 529.666 599.416 M529.666 595.713 Q535.477 595.713 538.532 600.319 Q541.611 604.902 541.611 613.652 Q541.611 622.379 538.532 626.986 Q535.477 631.569 529.666 631.569 Q523.856 631.569 520.778 626.986 Q517.722 622.379 517.722 613.652 Q517.722 604.902 520.778 600.319 Q523.856 595.713 529.666 595.713 Z\" fill=\"#000000\" fill-rule=\"nonzero\" fill-opacity=\"1\" /></svg>\n"
      ]
     },
     "metadata": {},
     "output_type": "display_data"
    }
   ],
   "source": [
    "display(plot!(Ts,energies))"
   ]
  },
  {
   "cell_type": "code",
   "execution_count": 151,
   "id": "5d59860e",
   "metadata": {},
   "outputs": [
    {
     "data": {
      "image/svg+xml": [
       "<?xml version=\"1.0\" encoding=\"utf-8\"?>\n",
       "<svg xmlns=\"http://www.w3.org/2000/svg\" xmlns:xlink=\"http://www.w3.org/1999/xlink\" width=\"600\" height=\"400\" viewBox=\"0 0 2400 1600\">\n",
       "<defs>\n",
       "  <clipPath id=\"clip800\">\n",
       "    <rect x=\"0\" y=\"0\" width=\"2400\" height=\"1600\"/>\n",
       "  </clipPath>\n",
       "</defs>\n",
       "<path clip-path=\"url(#clip800)\" d=\"M0 1600 L2400 1600 L2400 0 L0 0  Z\" fill=\"#ffffff\" fill-rule=\"evenodd\" fill-opacity=\"1\"/>\n",
       "<defs>\n",
       "  <clipPath id=\"clip801\">\n",
       "    <rect x=\"480\" y=\"0\" width=\"1681\" height=\"1600\"/>\n",
       "  </clipPath>\n",
       "</defs>\n",
       "<path clip-path=\"url(#clip800)\" d=\"M193.936 1486.45 L2352.76 1486.45 L2352.76 47.2441 L193.936 47.2441  Z\" fill=\"#ffffff\" fill-rule=\"evenodd\" fill-opacity=\"1\"/>\n",
       "<defs>\n",
       "  <clipPath id=\"clip802\">\n",
       "    <rect x=\"193\" y=\"47\" width=\"2160\" height=\"1440\"/>\n",
       "  </clipPath>\n",
       "</defs>\n",
       "<polyline clip-path=\"url(#clip802)\" style=\"stroke:#000000; stroke-linecap:round; stroke-linejoin:round; stroke-width:2; stroke-opacity:0.1; fill:none\" points=\"255.035,1486.45 255.035,47.2441 \"/>\n",
       "<polyline clip-path=\"url(#clip802)\" style=\"stroke:#000000; stroke-linecap:round; stroke-linejoin:round; stroke-width:2; stroke-opacity:0.1; fill:none\" points=\"764.19,1486.45 764.19,47.2441 \"/>\n",
       "<polyline clip-path=\"url(#clip802)\" style=\"stroke:#000000; stroke-linecap:round; stroke-linejoin:round; stroke-width:2; stroke-opacity:0.1; fill:none\" points=\"1273.35,1486.45 1273.35,47.2441 \"/>\n",
       "<polyline clip-path=\"url(#clip802)\" style=\"stroke:#000000; stroke-linecap:round; stroke-linejoin:round; stroke-width:2; stroke-opacity:0.1; fill:none\" points=\"1782.5,1486.45 1782.5,47.2441 \"/>\n",
       "<polyline clip-path=\"url(#clip802)\" style=\"stroke:#000000; stroke-linecap:round; stroke-linejoin:round; stroke-width:2; stroke-opacity:0.1; fill:none\" points=\"2291.66,1486.45 2291.66,47.2441 \"/>\n",
       "<polyline clip-path=\"url(#clip800)\" style=\"stroke:#000000; stroke-linecap:round; stroke-linejoin:round; stroke-width:4; stroke-opacity:1; fill:none\" points=\"193.936,1486.45 2352.76,1486.45 \"/>\n",
       "<polyline clip-path=\"url(#clip800)\" style=\"stroke:#000000; stroke-linecap:round; stroke-linejoin:round; stroke-width:4; stroke-opacity:1; fill:none\" points=\"255.035,1486.45 255.035,1467.55 \"/>\n",
       "<polyline clip-path=\"url(#clip800)\" style=\"stroke:#000000; stroke-linecap:round; stroke-linejoin:round; stroke-width:4; stroke-opacity:1; fill:none\" points=\"764.19,1486.45 764.19,1467.55 \"/>\n",
       "<polyline clip-path=\"url(#clip800)\" style=\"stroke:#000000; stroke-linecap:round; stroke-linejoin:round; stroke-width:4; stroke-opacity:1; fill:none\" points=\"1273.35,1486.45 1273.35,1467.55 \"/>\n",
       "<polyline clip-path=\"url(#clip800)\" style=\"stroke:#000000; stroke-linecap:round; stroke-linejoin:round; stroke-width:4; stroke-opacity:1; fill:none\" points=\"1782.5,1486.45 1782.5,1467.55 \"/>\n",
       "<polyline clip-path=\"url(#clip800)\" style=\"stroke:#000000; stroke-linecap:round; stroke-linejoin:round; stroke-width:4; stroke-opacity:1; fill:none\" points=\"2291.66,1486.45 2291.66,1467.55 \"/>\n",
       "<path clip-path=\"url(#clip800)\" d=\"M255.035 1517.37 Q251.424 1517.37 249.595 1520.93 Q247.789 1524.47 247.789 1531.6 Q247.789 1538.71 249.595 1542.27 Q251.424 1545.82 255.035 1545.82 Q258.669 1545.82 260.474 1542.27 Q262.303 1538.71 262.303 1531.6 Q262.303 1524.47 260.474 1520.93 Q258.669 1517.37 255.035 1517.37 M255.035 1513.66 Q260.845 1513.66 263.9 1518.27 Q266.979 1522.85 266.979 1531.6 Q266.979 1540.33 263.9 1544.94 Q260.845 1549.52 255.035 1549.52 Q249.225 1549.52 246.146 1544.94 Q243.09 1540.33 243.09 1531.6 Q243.09 1522.85 246.146 1518.27 Q249.225 1513.66 255.035 1513.66 Z\" fill=\"#000000\" fill-rule=\"nonzero\" fill-opacity=\"1\" /><path clip-path=\"url(#clip800)\" d=\"M754.572 1544.91 L762.211 1544.91 L762.211 1518.55 L753.901 1520.21 L753.901 1515.95 L762.165 1514.29 L766.841 1514.29 L766.841 1544.91 L774.48 1544.91 L774.48 1548.85 L754.572 1548.85 L754.572 1544.91 Z\" fill=\"#000000\" fill-rule=\"nonzero\" fill-opacity=\"1\" /><path clip-path=\"url(#clip800)\" d=\"M1268 1544.91 L1284.32 1544.91 L1284.32 1548.85 L1262.37 1548.85 L1262.37 1544.91 Q1265.04 1542.16 1269.62 1537.53 Q1274.23 1532.88 1275.41 1531.53 Q1277.65 1529.01 1278.53 1527.27 Q1279.43 1525.51 1279.43 1523.82 Q1279.43 1521.07 1277.49 1519.33 Q1275.57 1517.6 1272.47 1517.6 Q1270.27 1517.6 1267.81 1518.36 Q1265.38 1519.13 1262.61 1520.68 L1262.61 1515.95 Q1265.43 1514.82 1267.88 1514.24 Q1270.34 1513.66 1272.37 1513.66 Q1277.74 1513.66 1280.94 1516.35 Q1284.13 1519.03 1284.13 1523.52 Q1284.13 1525.65 1283.32 1527.57 Q1282.54 1529.47 1280.43 1532.07 Q1279.85 1532.74 1276.75 1535.95 Q1273.65 1539.15 1268 1544.91 Z\" fill=\"#000000\" fill-rule=\"nonzero\" fill-opacity=\"1\" /><path clip-path=\"url(#clip800)\" d=\"M1786.75 1530.21 Q1790.11 1530.93 1791.98 1533.2 Q1793.88 1535.47 1793.88 1538.8 Q1793.88 1543.92 1790.36 1546.72 Q1786.84 1549.52 1780.36 1549.52 Q1778.18 1549.52 1775.87 1549.08 Q1773.58 1548.66 1771.12 1547.81 L1771.12 1543.29 Q1773.07 1544.43 1775.38 1545.01 Q1777.7 1545.58 1780.22 1545.58 Q1784.62 1545.58 1786.91 1543.85 Q1789.23 1542.11 1789.23 1538.8 Q1789.23 1535.75 1787.07 1534.03 Q1784.94 1532.3 1781.12 1532.3 L1777.1 1532.3 L1777.1 1528.45 L1781.31 1528.45 Q1784.76 1528.45 1786.59 1527.09 Q1788.42 1525.7 1788.42 1523.11 Q1788.42 1520.45 1786.52 1519.03 Q1784.64 1517.6 1781.12 1517.6 Q1779.2 1517.6 1777 1518.01 Q1774.8 1518.43 1772.17 1519.31 L1772.17 1515.14 Q1774.83 1514.4 1777.14 1514.03 Q1779.48 1513.66 1781.54 1513.66 Q1786.86 1513.66 1789.97 1516.09 Q1793.07 1518.5 1793.07 1522.62 Q1793.07 1525.49 1791.43 1527.48 Q1789.78 1529.45 1786.75 1530.21 Z\" fill=\"#000000\" fill-rule=\"nonzero\" fill-opacity=\"1\" /><path clip-path=\"url(#clip800)\" d=\"M2294.67 1518.36 L2282.86 1536.81 L2294.67 1536.81 L2294.67 1518.36 M2293.44 1514.29 L2299.32 1514.29 L2299.32 1536.81 L2304.25 1536.81 L2304.25 1540.7 L2299.32 1540.7 L2299.32 1548.85 L2294.67 1548.85 L2294.67 1540.7 L2279.06 1540.7 L2279.06 1536.19 L2293.44 1514.29 Z\" fill=\"#000000\" fill-rule=\"nonzero\" fill-opacity=\"1\" /><polyline clip-path=\"url(#clip802)\" style=\"stroke:#000000; stroke-linecap:round; stroke-linejoin:round; stroke-width:2; stroke-opacity:0.1; fill:none\" points=\"193.936,1165.01 2352.76,1165.01 \"/>\n",
       "<polyline clip-path=\"url(#clip802)\" style=\"stroke:#000000; stroke-linecap:round; stroke-linejoin:round; stroke-width:2; stroke-opacity:0.1; fill:none\" points=\"193.936,799.473 2352.76,799.473 \"/>\n",
       "<polyline clip-path=\"url(#clip802)\" style=\"stroke:#000000; stroke-linecap:round; stroke-linejoin:round; stroke-width:2; stroke-opacity:0.1; fill:none\" points=\"193.936,433.939 2352.76,433.939 \"/>\n",
       "<polyline clip-path=\"url(#clip802)\" style=\"stroke:#000000; stroke-linecap:round; stroke-linejoin:round; stroke-width:2; stroke-opacity:0.1; fill:none\" points=\"193.936,68.4056 2352.76,68.4056 \"/>\n",
       "<polyline clip-path=\"url(#clip800)\" style=\"stroke:#000000; stroke-linecap:round; stroke-linejoin:round; stroke-width:4; stroke-opacity:1; fill:none\" points=\"193.936,1486.45 193.936,47.2441 \"/>\n",
       "<polyline clip-path=\"url(#clip800)\" style=\"stroke:#000000; stroke-linecap:round; stroke-linejoin:round; stroke-width:4; stroke-opacity:1; fill:none\" points=\"193.936,1165.01 212.834,1165.01 \"/>\n",
       "<polyline clip-path=\"url(#clip800)\" style=\"stroke:#000000; stroke-linecap:round; stroke-linejoin:round; stroke-width:4; stroke-opacity:1; fill:none\" points=\"193.936,799.473 212.834,799.473 \"/>\n",
       "<polyline clip-path=\"url(#clip800)\" style=\"stroke:#000000; stroke-linecap:round; stroke-linejoin:round; stroke-width:4; stroke-opacity:1; fill:none\" points=\"193.936,433.939 212.834,433.939 \"/>\n",
       "<polyline clip-path=\"url(#clip800)\" style=\"stroke:#000000; stroke-linecap:round; stroke-linejoin:round; stroke-width:4; stroke-opacity:1; fill:none\" points=\"193.936,68.4056 212.834,68.4056 \"/>\n",
       "<path clip-path=\"url(#clip800)\" d=\"M50.9921 1165.46 L80.6679 1165.46 L80.6679 1169.39 L50.9921 1169.39 L50.9921 1165.46 Z\" fill=\"#000000\" fill-rule=\"nonzero\" fill-opacity=\"1\" /><path clip-path=\"url(#clip800)\" d=\"M91.5706 1178.35 L99.2095 1178.35 L99.2095 1151.99 L90.8993 1153.65 L90.8993 1149.39 L99.1632 1147.73 L103.839 1147.73 L103.839 1178.35 L111.478 1178.35 L111.478 1182.29 L91.5706 1182.29 L91.5706 1178.35 Z\" fill=\"#000000\" fill-rule=\"nonzero\" fill-opacity=\"1\" /><path clip-path=\"url(#clip800)\" d=\"M120.922 1176.41 L125.807 1176.41 L125.807 1182.29 L120.922 1182.29 L120.922 1176.41 Z\" fill=\"#000000\" fill-rule=\"nonzero\" fill-opacity=\"1\" /><path clip-path=\"url(#clip800)\" d=\"M145.992 1150.81 Q142.381 1150.81 140.552 1154.37 Q138.746 1157.91 138.746 1165.04 Q138.746 1172.15 140.552 1175.71 Q142.381 1179.25 145.992 1179.25 Q149.626 1179.25 151.431 1175.71 Q153.26 1172.15 153.26 1165.04 Q153.26 1157.91 151.431 1154.37 Q149.626 1150.81 145.992 1150.81 M145.992 1147.1 Q151.802 1147.1 154.857 1151.71 Q157.936 1156.29 157.936 1165.04 Q157.936 1173.77 154.857 1178.38 Q151.802 1182.96 145.992 1182.96 Q140.181 1182.96 137.103 1178.38 Q134.047 1173.77 134.047 1165.04 Q134.047 1156.29 137.103 1151.71 Q140.181 1147.1 145.992 1147.1 Z\" fill=\"#000000\" fill-rule=\"nonzero\" fill-opacity=\"1\" /><path clip-path=\"url(#clip800)\" d=\"M51.9875 799.925 L81.6633 799.925 L81.6633 803.86 L51.9875 803.86 L51.9875 799.925 Z\" fill=\"#000000\" fill-rule=\"nonzero\" fill-opacity=\"1\" /><path clip-path=\"url(#clip800)\" d=\"M101.756 785.272 Q98.1447 785.272 96.316 788.837 Q94.5104 792.378 94.5104 799.508 Q94.5104 806.614 96.316 810.179 Q98.1447 813.721 101.756 813.721 Q105.39 813.721 107.196 810.179 Q109.024 806.614 109.024 799.508 Q109.024 792.378 107.196 788.837 Q105.39 785.272 101.756 785.272 M101.756 781.568 Q107.566 781.568 110.621 786.175 Q113.7 790.758 113.7 799.508 Q113.7 808.235 110.621 812.841 Q107.566 817.425 101.756 817.425 Q95.9456 817.425 92.8669 812.841 Q89.8114 808.235 89.8114 799.508 Q89.8114 790.758 92.8669 786.175 Q95.9456 781.568 101.756 781.568 Z\" fill=\"#000000\" fill-rule=\"nonzero\" fill-opacity=\"1\" /><path clip-path=\"url(#clip800)\" d=\"M121.918 810.874 L126.802 810.874 L126.802 816.753 L121.918 816.753 L121.918 810.874 Z\" fill=\"#000000\" fill-rule=\"nonzero\" fill-opacity=\"1\" /><path clip-path=\"url(#clip800)\" d=\"M137.033 782.193 L155.39 782.193 L155.39 786.128 L141.316 786.128 L141.316 794.601 Q142.334 794.253 143.353 794.091 Q144.371 793.906 145.39 793.906 Q151.177 793.906 154.556 797.077 Q157.936 800.249 157.936 805.665 Q157.936 811.244 154.464 814.346 Q150.992 817.425 144.672 817.425 Q142.496 817.425 140.228 817.054 Q137.982 816.684 135.575 815.943 L135.575 811.244 Q137.658 812.378 139.881 812.934 Q142.103 813.489 144.58 813.489 Q148.584 813.489 150.922 811.383 Q153.26 809.276 153.26 805.665 Q153.26 802.054 150.922 799.948 Q148.584 797.841 144.58 797.841 Q142.705 797.841 140.83 798.258 Q138.978 798.675 137.033 799.554 L137.033 782.193 Z\" fill=\"#000000\" fill-rule=\"nonzero\" fill-opacity=\"1\" /><path clip-path=\"url(#clip800)\" d=\"M100.76 419.738 Q97.1493 419.738 95.3206 423.303 Q93.515 426.845 93.515 433.974 Q93.515 441.081 95.3206 444.645 Q97.1493 448.187 100.76 448.187 Q104.395 448.187 106.2 444.645 Q108.029 441.081 108.029 433.974 Q108.029 426.845 106.2 423.303 Q104.395 419.738 100.76 419.738 M100.76 416.034 Q106.571 416.034 109.626 420.641 Q112.705 425.224 112.705 433.974 Q112.705 442.701 109.626 447.307 Q106.571 451.891 100.76 451.891 Q94.9502 451.891 91.8715 447.307 Q88.816 442.701 88.816 433.974 Q88.816 425.224 91.8715 420.641 Q94.9502 416.034 100.76 416.034 Z\" fill=\"#000000\" fill-rule=\"nonzero\" fill-opacity=\"1\" /><path clip-path=\"url(#clip800)\" d=\"M120.922 445.34 L125.807 445.34 L125.807 451.219 L120.922 451.219 L120.922 445.34 Z\" fill=\"#000000\" fill-rule=\"nonzero\" fill-opacity=\"1\" /><path clip-path=\"url(#clip800)\" d=\"M145.992 419.738 Q142.381 419.738 140.552 423.303 Q138.746 426.845 138.746 433.974 Q138.746 441.081 140.552 444.645 Q142.381 448.187 145.992 448.187 Q149.626 448.187 151.431 444.645 Q153.26 441.081 153.26 433.974 Q153.26 426.845 151.431 423.303 Q149.626 419.738 145.992 419.738 M145.992 416.034 Q151.802 416.034 154.857 420.641 Q157.936 425.224 157.936 433.974 Q157.936 442.701 154.857 447.307 Q151.802 451.891 145.992 451.891 Q140.181 451.891 137.103 447.307 Q134.047 442.701 134.047 433.974 Q134.047 425.224 137.103 420.641 Q140.181 416.034 145.992 416.034 Z\" fill=\"#000000\" fill-rule=\"nonzero\" fill-opacity=\"1\" /><path clip-path=\"url(#clip800)\" d=\"M101.756 54.2043 Q98.1447 54.2043 96.316 57.7691 Q94.5104 61.3107 94.5104 68.4403 Q94.5104 75.5468 96.316 79.1116 Q98.1447 82.6532 101.756 82.6532 Q105.39 82.6532 107.196 79.1116 Q109.024 75.5468 109.024 68.4403 Q109.024 61.3107 107.196 57.7691 Q105.39 54.2043 101.756 54.2043 M101.756 50.5006 Q107.566 50.5006 110.621 55.1071 Q113.7 59.6904 113.7 68.4403 Q113.7 77.1671 110.621 81.7736 Q107.566 86.3569 101.756 86.3569 Q95.9456 86.3569 92.8669 81.7736 Q89.8114 77.1671 89.8114 68.4403 Q89.8114 59.6904 92.8669 55.1071 Q95.9456 50.5006 101.756 50.5006 Z\" fill=\"#000000\" fill-rule=\"nonzero\" fill-opacity=\"1\" /><path clip-path=\"url(#clip800)\" d=\"M121.918 79.806 L126.802 79.806 L126.802 85.6856 L121.918 85.6856 L121.918 79.806 Z\" fill=\"#000000\" fill-rule=\"nonzero\" fill-opacity=\"1\" /><path clip-path=\"url(#clip800)\" d=\"M137.033 51.1256 L155.39 51.1256 L155.39 55.0608 L141.316 55.0608 L141.316 63.5329 Q142.334 63.1857 143.353 63.0237 Q144.371 62.8385 145.39 62.8385 Q151.177 62.8385 154.556 66.0098 Q157.936 69.1811 157.936 74.5977 Q157.936 80.1764 154.464 83.2782 Q150.992 86.3569 144.672 86.3569 Q142.496 86.3569 140.228 85.9865 Q137.982 85.6162 135.575 84.8754 L135.575 80.1764 Q137.658 81.3106 139.881 81.8662 Q142.103 82.4217 144.58 82.4217 Q148.584 82.4217 150.922 80.3153 Q153.26 78.2088 153.26 74.5977 Q153.26 70.9866 150.922 68.8801 Q148.584 66.7737 144.58 66.7737 Q142.705 66.7737 140.83 67.1903 Q138.978 67.607 137.033 68.4866 L137.033 51.1256 Z\" fill=\"#000000\" fill-rule=\"nonzero\" fill-opacity=\"1\" /><polyline clip-path=\"url(#clip802)\" style=\"stroke:#009af9; stroke-linecap:round; stroke-linejoin:round; stroke-width:4; stroke-opacity:1; fill:none\" points=\"255.035,1384.71 458.697,1396.01 662.359,1390.93 866.021,1262.5 1069.68,1040.33 1273.35,864.876 1477.01,781.397 1680.67,718.573 1884.33,685.305 2087.99,645.183 2291.66,624.117 \"/>\n",
       "<polyline clip-path=\"url(#clip802)\" style=\"stroke:#e26f46; stroke-linecap:round; stroke-linejoin:round; stroke-width:4; stroke-opacity:1; fill:none\" points=\"255.035,1445.72 458.697,1421.08 662.359,1400.68 866.021,1231.98 1069.68,989.802 1273.35,872.218 1477.01,784.868 1680.67,719.627 1884.33,678.509 2087.99,648.479 2291.66,625.008 \"/>\n",
       "<polyline clip-path=\"url(#clip802)\" style=\"stroke:#3da44d; stroke-linecap:round; stroke-linejoin:round; stroke-width:4; stroke-opacity:1; fill:none\" points=\"255.035,433.939 458.697,433.937 662.359,433.894 866.021,429.603 1069.68,395.41 1273.35,339.55 1477.01,277.108 1680.67,217.209 1884.33,166.165 2087.99,124.523 2291.66,87.9763 \"/>\n",
       "<polyline clip-path=\"url(#clip802)\" style=\"stroke:#c271d2; stroke-linecap:round; stroke-linejoin:round; stroke-width:4; stroke-opacity:1; fill:none\" points=\"255.035,433.939 458.697,433.937 662.359,433.894 866.021,429.603 1069.68,395.41 1273.35,339.55 1477.01,277.108 1680.67,217.209 1884.33,166.165 2087.99,124.523 2291.66,87.9763 \"/>\n",
       "<polyline clip-path=\"url(#clip802)\" style=\"stroke:#ac8d18; stroke-linecap:round; stroke-linejoin:round; stroke-width:4; stroke-opacity:1; fill:none\" points=\"255.035,433.939 458.697,433.937 662.359,433.894 866.021,429.603 1069.68,395.41 1273.35,339.55 1477.01,277.108 1680.67,217.209 1884.33,166.165 2087.99,124.523 2291.66,87.9763 \"/>\n",
       "<polyline clip-path=\"url(#clip802)\" style=\"stroke:#00a9ad; stroke-linecap:round; stroke-linejoin:round; stroke-width:4; stroke-opacity:1; fill:none\" points=\"255.035,1445.72 458.697,1421.08 662.359,1400.68 866.021,1231.98 1069.68,989.802 1273.35,872.218 1477.01,784.868 1680.67,719.627 1884.33,678.509 2087.99,648.479 2291.66,625.008 \"/>\n",
       "<polyline clip-path=\"url(#clip802)\" style=\"stroke:#ed5d92; stroke-linecap:round; stroke-linejoin:round; stroke-width:4; stroke-opacity:1; fill:none\" points=\"255.035,433.939 458.697,433.937 662.359,433.894 866.021,429.603 1069.68,395.41 1273.35,339.55 1477.01,277.108 1680.67,217.209 1884.33,166.165 2087.99,124.523 2291.66,87.9763 \"/>\n",
       "<polyline clip-path=\"url(#clip802)\" style=\"stroke:#c68125; stroke-linecap:round; stroke-linejoin:round; stroke-width:4; stroke-opacity:1; fill:none\" points=\"255.035,1445.72 458.697,1421.08 662.359,1400.68 866.021,1231.98 1069.68,989.802 1273.35,872.218 1477.01,784.868 1680.67,719.627 1884.33,678.509 2087.99,648.479 2291.66,625.008 \"/>\n",
       "<polyline clip-path=\"url(#clip802)\" style=\"stroke:#00a98d; stroke-linecap:round; stroke-linejoin:round; stroke-width:4; stroke-opacity:1; fill:none\" points=\"255.035,433.939 458.697,433.937 662.359,433.894 866.021,429.603 1069.68,395.41 1273.35,339.55 1477.01,277.108 1680.67,217.209 1884.33,166.165 2087.99,124.523 2291.66,87.9763 \"/>\n",
       "<path clip-path=\"url(#clip800)\" d=\"M265.897 613.618 L535.922 613.618 L535.922 95.2176 L265.897 95.2176  Z\" fill=\"#ffffff\" fill-rule=\"evenodd\" fill-opacity=\"1\"/>\n",
       "<polyline clip-path=\"url(#clip800)\" style=\"stroke:#000000; stroke-linecap:round; stroke-linejoin:round; stroke-width:4; stroke-opacity:1; fill:none\" points=\"265.897,613.618 535.922,613.618 535.922,95.2176 265.897,95.2176 265.897,613.618 \"/>\n",
       "<polyline clip-path=\"url(#clip800)\" style=\"stroke:#009af9; stroke-linecap:round; stroke-linejoin:round; stroke-width:4; stroke-opacity:1; fill:none\" points=\"289.884,147.058 433.805,147.058 \"/>\n",
       "<path clip-path=\"url(#clip800)\" d=\"M471.634 166.745 Q469.829 171.375 468.116 172.787 Q466.403 174.199 463.532 174.199 L460.13 174.199 L460.13 170.634 L462.63 170.634 Q464.389 170.634 465.361 169.8 Q466.333 168.967 467.514 165.865 L468.278 163.921 L457.792 138.412 L462.306 138.412 L470.407 158.689 L478.509 138.412 L483.023 138.412 L471.634 166.745 Z\" fill=\"#000000\" fill-rule=\"nonzero\" fill-opacity=\"1\" /><path clip-path=\"url(#clip800)\" d=\"M490.315 160.402 L497.954 160.402 L497.954 134.037 L489.643 135.703 L489.643 131.444 L497.907 129.778 L502.583 129.778 L502.583 160.402 L510.222 160.402 L510.222 164.338 L490.315 164.338 L490.315 160.402 Z\" fill=\"#000000\" fill-rule=\"nonzero\" fill-opacity=\"1\" /><polyline clip-path=\"url(#clip800)\" style=\"stroke:#e26f46; stroke-linecap:round; stroke-linejoin:round; stroke-width:4; stroke-opacity:1; fill:none\" points=\"289.884,198.898 433.805,198.898 \"/>\n",
       "<path clip-path=\"url(#clip800)\" d=\"M471.634 218.585 Q469.829 223.215 468.116 224.627 Q466.403 226.039 463.532 226.039 L460.13 226.039 L460.13 222.474 L462.63 222.474 Q464.389 222.474 465.361 221.64 Q466.333 220.807 467.514 217.705 L468.278 215.761 L457.792 190.252 L462.306 190.252 L470.407 210.529 L478.509 190.252 L483.023 190.252 L471.634 218.585 Z\" fill=\"#000000\" fill-rule=\"nonzero\" fill-opacity=\"1\" /><path clip-path=\"url(#clip800)\" d=\"M493.532 212.242 L509.852 212.242 L509.852 216.178 L487.907 216.178 L487.907 212.242 Q490.569 209.488 495.153 204.858 Q499.759 200.205 500.94 198.863 Q503.185 196.34 504.065 194.604 Q504.967 192.844 504.967 191.155 Q504.967 188.4 503.023 186.664 Q501.102 184.928 498 184.928 Q495.801 184.928 493.347 185.692 Q490.917 186.455 488.139 188.006 L488.139 183.284 Q490.963 182.15 493.417 181.571 Q495.87 180.993 497.907 180.993 Q503.278 180.993 506.472 183.678 Q509.666 186.363 509.666 190.854 Q509.666 192.983 508.856 194.905 Q508.069 196.803 505.963 199.395 Q505.384 200.067 502.282 203.284 Q499.18 206.479 493.532 212.242 Z\" fill=\"#000000\" fill-rule=\"nonzero\" fill-opacity=\"1\" /><polyline clip-path=\"url(#clip800)\" style=\"stroke:#3da44d; stroke-linecap:round; stroke-linejoin:round; stroke-width:4; stroke-opacity:1; fill:none\" points=\"289.884,250.738 433.805,250.738 \"/>\n",
       "<path clip-path=\"url(#clip800)\" d=\"M471.634 270.425 Q469.829 275.055 468.116 276.467 Q466.403 277.879 463.532 277.879 L460.13 277.879 L460.13 274.314 L462.63 274.314 Q464.389 274.314 465.361 273.48 Q466.333 272.647 467.514 269.545 L468.278 267.601 L457.792 242.092 L462.306 242.092 L470.407 262.369 L478.509 242.092 L483.023 242.092 L471.634 270.425 Z\" fill=\"#000000\" fill-rule=\"nonzero\" fill-opacity=\"1\" /><path clip-path=\"url(#clip800)\" d=\"M503.671 249.383 Q507.028 250.101 508.903 252.369 Q510.801 254.638 510.801 257.971 Q510.801 263.087 507.282 265.888 Q503.764 268.689 497.282 268.689 Q495.106 268.689 492.792 268.249 Q490.5 267.832 488.046 266.976 L488.046 262.462 Q489.991 263.596 492.305 264.175 Q494.62 264.754 497.143 264.754 Q501.542 264.754 503.833 263.018 Q506.148 261.281 506.148 257.971 Q506.148 254.916 503.995 253.203 Q501.866 251.467 498.046 251.467 L494.018 251.467 L494.018 247.624 L498.231 247.624 Q501.68 247.624 503.509 246.258 Q505.338 244.87 505.338 242.277 Q505.338 239.615 503.44 238.203 Q501.565 236.768 498.046 236.768 Q496.125 236.768 493.926 237.184 Q491.727 237.601 489.088 238.481 L489.088 234.314 Q491.75 233.573 494.065 233.203 Q496.403 232.833 498.463 232.833 Q503.787 232.833 506.889 235.263 Q509.991 237.67 509.991 241.791 Q509.991 244.661 508.347 246.652 Q506.704 248.62 503.671 249.383 Z\" fill=\"#000000\" fill-rule=\"nonzero\" fill-opacity=\"1\" /><polyline clip-path=\"url(#clip800)\" style=\"stroke:#c271d2; stroke-linecap:round; stroke-linejoin:round; stroke-width:4; stroke-opacity:1; fill:none\" points=\"289.884,302.578 433.805,302.578 \"/>\n",
       "<path clip-path=\"url(#clip800)\" d=\"M471.634 322.265 Q469.829 326.895 468.116 328.307 Q466.403 329.719 463.532 329.719 L460.13 329.719 L460.13 326.154 L462.63 326.154 Q464.389 326.154 465.361 325.32 Q466.333 324.487 467.514 321.385 L468.278 319.441 L457.792 293.932 L462.306 293.932 L470.407 314.209 L478.509 293.932 L483.023 293.932 L471.634 322.265 Z\" fill=\"#000000\" fill-rule=\"nonzero\" fill-opacity=\"1\" /><path clip-path=\"url(#clip800)\" d=\"M502.352 289.372 L490.546 307.821 L502.352 307.821 L502.352 289.372 M501.125 285.298 L507.004 285.298 L507.004 307.821 L511.935 307.821 L511.935 311.709 L507.004 311.709 L507.004 319.858 L502.352 319.858 L502.352 311.709 L486.75 311.709 L486.75 307.196 L501.125 285.298 Z\" fill=\"#000000\" fill-rule=\"nonzero\" fill-opacity=\"1\" /><polyline clip-path=\"url(#clip800)\" style=\"stroke:#ac8d18; stroke-linecap:round; stroke-linejoin:round; stroke-width:4; stroke-opacity:1; fill:none\" points=\"289.884,354.418 433.805,354.418 \"/>\n",
       "<path clip-path=\"url(#clip800)\" d=\"M471.634 374.105 Q469.829 378.735 468.116 380.147 Q466.403 381.559 463.532 381.559 L460.13 381.559 L460.13 377.994 L462.63 377.994 Q464.389 377.994 465.361 377.16 Q466.333 376.327 467.514 373.225 L468.278 371.281 L457.792 345.772 L462.306 345.772 L470.407 366.049 L478.509 345.772 L483.023 345.772 L471.634 374.105 Z\" fill=\"#000000\" fill-rule=\"nonzero\" fill-opacity=\"1\" /><path clip-path=\"url(#clip800)\" d=\"M489.551 337.138 L507.907 337.138 L507.907 341.073 L493.833 341.073 L493.833 349.545 Q494.852 349.198 495.87 349.036 Q496.889 348.85 497.907 348.85 Q503.694 348.85 507.074 352.022 Q510.454 355.193 510.454 360.61 Q510.454 366.188 506.981 369.29 Q503.509 372.369 497.19 372.369 Q495.014 372.369 492.745 371.998 Q490.5 371.628 488.093 370.887 L488.093 366.188 Q490.176 367.323 492.398 367.878 Q494.62 368.434 497.097 368.434 Q501.102 368.434 503.44 366.327 Q505.778 364.221 505.778 360.61 Q505.778 356.999 503.44 354.892 Q501.102 352.786 497.097 352.786 Q495.222 352.786 493.347 353.202 Q491.495 353.619 489.551 354.499 L489.551 337.138 Z\" fill=\"#000000\" fill-rule=\"nonzero\" fill-opacity=\"1\" /><polyline clip-path=\"url(#clip800)\" style=\"stroke:#00a9ad; stroke-linecap:round; stroke-linejoin:round; stroke-width:4; stroke-opacity:1; fill:none\" points=\"289.884,406.258 433.805,406.258 \"/>\n",
       "<path clip-path=\"url(#clip800)\" d=\"M471.634 425.945 Q469.829 430.575 468.116 431.987 Q466.403 433.399 463.532 433.399 L460.13 433.399 L460.13 429.834 L462.63 429.834 Q464.389 429.834 465.361 429 Q466.333 428.167 467.514 425.065 L468.278 423.121 L457.792 397.612 L462.306 397.612 L470.407 417.889 L478.509 397.612 L483.023 397.612 L471.634 425.945 Z\" fill=\"#000000\" fill-rule=\"nonzero\" fill-opacity=\"1\" /><path clip-path=\"url(#clip800)\" d=\"M500.083 404.394 Q496.935 404.394 495.083 406.547 Q493.255 408.7 493.255 412.45 Q493.255 416.176 495.083 418.352 Q496.935 420.505 500.083 420.505 Q503.231 420.505 505.06 418.352 Q506.912 416.176 506.912 412.45 Q506.912 408.7 505.06 406.547 Q503.231 404.394 500.083 404.394 M509.366 389.741 L509.366 394.001 Q507.606 393.167 505.801 392.728 Q504.018 392.288 502.259 392.288 Q497.63 392.288 495.176 395.413 Q492.745 398.538 492.398 404.857 Q493.764 402.843 495.824 401.778 Q497.884 400.69 500.361 400.69 Q505.569 400.69 508.579 403.862 Q511.611 407.01 511.611 412.45 Q511.611 417.774 508.463 420.991 Q505.315 424.209 500.083 424.209 Q494.088 424.209 490.917 419.626 Q487.745 415.019 487.745 406.292 Q487.745 398.098 491.634 393.237 Q495.523 388.353 502.074 388.353 Q503.833 388.353 505.616 388.7 Q507.421 389.047 509.366 389.741 Z\" fill=\"#000000\" fill-rule=\"nonzero\" fill-opacity=\"1\" /><polyline clip-path=\"url(#clip800)\" style=\"stroke:#ed5d92; stroke-linecap:round; stroke-linejoin:round; stroke-width:4; stroke-opacity:1; fill:none\" points=\"289.884,458.098 433.805,458.098 \"/>\n",
       "<path clip-path=\"url(#clip800)\" d=\"M471.634 477.785 Q469.829 482.415 468.116 483.827 Q466.403 485.239 463.532 485.239 L460.13 485.239 L460.13 481.674 L462.63 481.674 Q464.389 481.674 465.361 480.84 Q466.333 480.007 467.514 476.905 L468.278 474.961 L457.792 449.452 L462.306 449.452 L470.407 469.729 L478.509 449.452 L483.023 449.452 L471.634 477.785 Z\" fill=\"#000000\" fill-rule=\"nonzero\" fill-opacity=\"1\" /><path clip-path=\"url(#clip800)\" d=\"M488.324 440.818 L510.546 440.818 L510.546 442.808 L498 475.378 L493.116 475.378 L504.921 444.753 L488.324 444.753 L488.324 440.818 Z\" fill=\"#000000\" fill-rule=\"nonzero\" fill-opacity=\"1\" /><polyline clip-path=\"url(#clip800)\" style=\"stroke:#c68125; stroke-linecap:round; stroke-linejoin:round; stroke-width:4; stroke-opacity:1; fill:none\" points=\"289.884,509.938 433.805,509.938 \"/>\n",
       "<path clip-path=\"url(#clip800)\" d=\"M471.634 529.625 Q469.829 534.255 468.116 535.667 Q466.403 537.079 463.532 537.079 L460.13 537.079 L460.13 533.514 L462.63 533.514 Q464.389 533.514 465.361 532.68 Q466.333 531.847 467.514 528.745 L468.278 526.801 L457.792 501.292 L462.306 501.292 L470.407 521.569 L478.509 501.292 L483.023 501.292 L471.634 529.625 Z\" fill=\"#000000\" fill-rule=\"nonzero\" fill-opacity=\"1\" /><path clip-path=\"url(#clip800)\" d=\"M499.505 510.806 Q496.171 510.806 494.25 512.588 Q492.352 514.37 492.352 517.495 Q492.352 520.62 494.25 522.403 Q496.171 524.185 499.505 524.185 Q502.838 524.185 504.759 522.403 Q506.68 520.597 506.68 517.495 Q506.68 514.37 504.759 512.588 Q502.861 510.806 499.505 510.806 M494.829 508.815 Q491.819 508.074 490.13 506.014 Q488.463 503.954 488.463 500.991 Q488.463 496.847 491.403 494.44 Q494.366 492.033 499.505 492.033 Q504.667 492.033 507.606 494.44 Q510.546 496.847 510.546 500.991 Q510.546 503.954 508.856 506.014 Q507.19 508.074 504.204 508.815 Q507.583 509.602 509.458 511.894 Q511.356 514.185 511.356 517.495 Q511.356 522.519 508.278 525.204 Q505.222 527.889 499.505 527.889 Q493.787 527.889 490.708 525.204 Q487.653 522.519 487.653 517.495 Q487.653 514.185 489.551 511.894 Q491.449 509.602 494.829 508.815 M493.116 501.431 Q493.116 504.116 494.782 505.62 Q496.472 507.125 499.505 507.125 Q502.514 507.125 504.204 505.62 Q505.917 504.116 505.917 501.431 Q505.917 498.745 504.204 497.241 Q502.514 495.736 499.505 495.736 Q496.472 495.736 494.782 497.241 Q493.116 498.745 493.116 501.431 Z\" fill=\"#000000\" fill-rule=\"nonzero\" fill-opacity=\"1\" /><polyline clip-path=\"url(#clip800)\" style=\"stroke:#00a98d; stroke-linecap:round; stroke-linejoin:round; stroke-width:4; stroke-opacity:1; fill:none\" points=\"289.884,561.778 433.805,561.778 \"/>\n",
       "<path clip-path=\"url(#clip800)\" d=\"M471.634 581.465 Q469.829 586.095 468.116 587.507 Q466.403 588.919 463.532 588.919 L460.13 588.919 L460.13 585.354 L462.63 585.354 Q464.389 585.354 465.361 584.52 Q466.333 583.687 467.514 580.585 L468.278 578.641 L457.792 553.132 L462.306 553.132 L470.407 573.409 L478.509 553.132 L483.023 553.132 L471.634 581.465 Z\" fill=\"#000000\" fill-rule=\"nonzero\" fill-opacity=\"1\" /><path clip-path=\"url(#clip800)\" d=\"M489.643 578.34 L489.643 574.081 Q491.403 574.914 493.208 575.354 Q495.014 575.794 496.75 575.794 Q501.379 575.794 503.81 572.692 Q506.264 569.567 506.611 563.224 Q505.268 565.215 503.208 566.28 Q501.148 567.345 498.648 567.345 Q493.463 567.345 490.43 564.22 Q487.421 561.072 487.421 555.632 Q487.421 550.308 490.569 547.09 Q493.717 543.873 498.949 543.873 Q504.944 543.873 508.092 548.479 Q511.264 553.062 511.264 561.812 Q511.264 569.984 507.375 574.868 Q503.509 579.729 496.958 579.729 Q495.199 579.729 493.393 579.382 Q491.588 579.034 489.643 578.34 M498.949 563.687 Q502.097 563.687 503.926 561.534 Q505.778 559.382 505.778 555.632 Q505.778 551.905 503.926 549.752 Q502.097 547.576 498.949 547.576 Q495.801 547.576 493.949 549.752 Q492.12 551.905 492.12 555.632 Q492.12 559.382 493.949 561.534 Q495.801 563.687 498.949 563.687 Z\" fill=\"#000000\" fill-rule=\"nonzero\" fill-opacity=\"1\" /></svg>\n"
      ]
     },
     "metadata": {},
     "output_type": "display_data"
    }
   ],
   "source": [
    "display(plot!(Ts,acceptance_rates))"
   ]
  },
  {
   "cell_type": "code",
   "execution_count": null,
   "id": "0bc56c73",
   "metadata": {},
   "outputs": [],
   "source": []
  }
 ],
 "metadata": {
  "kernelspec": {
   "display_name": "Julia 1.8.1",
   "language": "julia",
   "name": "julia-1.8"
  },
  "language_info": {
   "file_extension": ".jl",
   "mimetype": "application/julia",
   "name": "julia",
   "version": "1.8.1"
  }
 },
 "nbformat": 4,
 "nbformat_minor": 5
}
