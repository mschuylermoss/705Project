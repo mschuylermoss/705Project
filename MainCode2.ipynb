{
 "cells": [
  {
   "cell_type": "code",
   "execution_count": 1,
   "id": "dc95b7a1",
   "metadata": {},
   "outputs": [],
   "source": [
    "using Random\n",
    "using DataFrames\n",
    "using CSV"
   ]
  },
  {
   "cell_type": "code",
   "execution_count": 15,
   "id": "11e48ea3",
   "metadata": {},
   "outputs": [
    {
     "data": {
      "text/plain": [
       "build_lattice_df (generic function with 1 method)"
      ]
     },
     "execution_count": 15,
     "metadata": {},
     "output_type": "execute_result"
    }
   ],
   "source": [
    "function build_lattice_df(Lx,Ly)\n",
    "    \n",
    "    N = Lx*Ly\n",
    "    sites = collect(1:N)\n",
    "    dirs = ['x','y']\n",
    "    interactions = DataFrame([\"$site,$dir\" => [] for site in sites for dir in dirs])    \n",
    "    for site in 1:N\n",
    "        up = mod(site-1-Lx,N)\n",
    "        down = mod(site-1+Lx,N)\n",
    "        right = Int(((site-1)-((site-1)%Lx)) + mod(((site-1)%Lx)+1,Lx))\n",
    "        left = Int(((site-1)-((site-1)%Lx)) + mod(((site-1)%Lx)-1,Lx))\n",
    "        push!(interactions[!,\"$site,x\"],[left+1,right+1])\n",
    "        push!(interactions[!,\"$site,y\"],[up+1,down+1])\n",
    "    end\n",
    "    \n",
    "    return interactions\n",
    "end"
   ]
  },
  {
   "cell_type": "code",
   "execution_count": 16,
   "id": "b1d10588",
   "metadata": {},
   "outputs": [
    {
     "data": {
      "text/plain": [
       "rows_and_columns (generic function with 1 method)"
      ]
     },
     "execution_count": 16,
     "metadata": {},
     "output_type": "execute_result"
    }
   ],
   "source": [
    "function rows_and_columns(Lx,Ly)\n",
    "    \n",
    "    N =Lx*Ly\n",
    "    rows = DataFrame([\"row$row\" => [] for row in 1:Ly])    \n",
    "    cols = DataFrame([\"col$col\" => [] for col in 1:Lx])\n",
    "    for site in 1:N\n",
    "        row = Int((((site-1) - ((site-1)%Lx))/Ly)+1)\n",
    "        col = Int(((site-1) % Lx)+1)\n",
    "        push!(rows[!,\"row$row\"],site)\n",
    "        push!(cols[!,\"col$col\"],site)\n",
    "    end\n",
    "    \n",
    "    return rows, cols\n",
    "end"
   ]
  },
  {
   "cell_type": "code",
   "execution_count": 17,
   "id": "1478b0b7",
   "metadata": {},
   "outputs": [
    {
     "data": {
      "text/plain": [
       "Calculate_XY_Energy (generic function with 1 method)"
      ]
     },
     "execution_count": 17,
     "metadata": {},
     "output_type": "execute_result"
    }
   ],
   "source": [
    "function Calculate_XY_Energy(config,interactions)\n",
    "    \n",
    "    N = length(config)\n",
    "    totalenergy = 0\n",
    "    \n",
    "    for site in (1:N)\n",
    "        neighbors_x = interactions[!,\"$site,x\"][1,1]\n",
    "        neighbors_y = interactions[!,\"$site,y\"][1,1]\n",
    "        energy_contributions_x = 0.5*-1*cos.(config[site].-config[neighbors_x])\n",
    "        energy_contributions_y = 0.5*-1*cos.(config[site].-config[neighbors_y])\n",
    "        totalenergy += sum(energy_contributions_x) + sum(energy_contributions_y)\n",
    "    end\n",
    "    \n",
    "    return totalenergy\n",
    "\n",
    "end"
   ]
  },
  {
   "cell_type": "code",
   "execution_count": 18,
   "id": "4f36b25e",
   "metadata": {
    "scrolled": true
   },
   "outputs": [
    {
     "data": {
      "text/plain": [
       "-32.0"
      ]
     },
     "execution_count": 18,
     "metadata": {},
     "output_type": "execute_result"
    }
   ],
   "source": [
    "test1 = ones(16)*0.5;\n",
    "interactions = build_lattice_df(4,4);\n",
    "test_energy = Calculate_XY_Energy(test1,interactions)"
   ]
  },
  {
   "cell_type": "code",
   "execution_count": 19,
   "id": "614500e6",
   "metadata": {},
   "outputs": [
    {
     "data": {
      "text/plain": [
       "XY_update_function (generic function with 1 method)"
      ]
     },
     "execution_count": 19,
     "metadata": {},
     "output_type": "execute_result"
    }
   ],
   "source": [
    "function XY_update_function(config,energy,interactions,beta,energy_func)\n",
    "    \n",
    "    random_angles =rand(Float64,length(config))*2*pi\n",
    "    new_config = mod2pi.(copy(config).+random_angles)\n",
    "    new_energy = energy_func(new_config,interactions)\n",
    "    deltaE = new_energy-energy\n",
    "    exp_beta_deltaE = exp(-1*beta*deltaE)\n",
    "    rand_value = rand(Float64,1)[1]\n",
    "    \n",
    "    if exp_beta_deltaE > rand_value\n",
    "        config = new_config\n",
    "    else\n",
    "        deltaE = 0.\n",
    "    end\n",
    "    \n",
    "    return config, deltaE\n",
    "end"
   ]
  },
  {
   "cell_type": "code",
   "execution_count": 20,
   "id": "3c6e79ea",
   "metadata": {},
   "outputs": [
    {
     "data": {
      "text/plain": [
       "([0.9631328453442337, 1.1969991509486162, 0.5765176655244939, 0.3300227758897261, 0.5503292209215372, 0.5953070065158568, 2.156700516561668, 0.6956246436390606, 0.06110798333552896, 1.5577150078960698, 2.482527617506036, 2.3567100963915903, 0.995350677392233, 1.0185980670732253, 4.182837503925386, 1.5346694909665168], 0.0)"
      ]
     },
     "execution_count": 20,
     "metadata": {},
     "output_type": "execute_result"
    }
   ],
   "source": [
    "test2 = rand(Float64,16)*2*pi\n",
    "test_energy2 = Calculate_XY_Energy(test2,interactions)\n",
    "XY_update_function(test2,test_energy2,interactions,1,Calculate_XY_Energy)"
   ]
  },
  {
   "cell_type": "code",
   "execution_count": 21,
   "id": "cf1fd28a",
   "metadata": {},
   "outputs": [
    {
     "data": {
      "text/plain": [
       "spin_stiffness (generic function with 1 method)"
      ]
     },
     "execution_count": 21,
     "metadata": {},
     "output_type": "execute_result"
    }
   ],
   "source": [
    "function spin_stiffness(beta,config,interactions,rows,cols)\n",
    "    \n",
    "    N = length(config)\n",
    "    L = Int(sqrt(N)) # obv for a square lattice only\n",
    "    \n",
    "    avg_ps_over_rows = 0\n",
    "    for row in 1:L\n",
    "        sites_in_row = rows[!,\"row$row\"]\n",
    "        cos_contributions_x = 0\n",
    "        sin_contributions_x = 0\n",
    "        for site in sites_in_row\n",
    "            neighbors_x = interactions[!,\"$site,x\"][1,1]\n",
    "            cos_contributions_x += sum(0.5*-1*cos.(config[site].-config[neighbors_x]))\n",
    "            sin_contributions_x += sum(0.5*-1*sin.(config[site].-config[neighbors_x]))\n",
    "        end\n",
    "        avg_ps_over_rows += ((1/L) * (1/N) * cos_contributions_x) - ((1/L) * (beta/N) * sin_contributions_x^2)\n",
    "    end\n",
    "    \n",
    "    avg_ps_over_cols = 0\n",
    "    for col in 1:L\n",
    "        sites_in_cols = cols[!,\"col$col\"]\n",
    "        cos_contributions_y = 0\n",
    "        sin_contributions_y = 0\n",
    "        for site in sites_in_cols\n",
    "            neighbors_y = interactions[!,\"$site,y\"][1,1]\n",
    "            cos_contributions_y += sum(0.5*-1*cos.(config[site].-config[neighbors_y]))\n",
    "            sin_contributions_y += sum(0.5*-1*sin.(config[site].-config[neighbors_y]))\n",
    "        end\n",
    "        avg_ps_over_cols += ((1/L) * (1/N) * cos_contributions_y) - ((1/L) * (beta/N) * sin_contributions_y^2)\n",
    "    end\n",
    "    \n",
    "    spin_stiffness = (avg_ps_over_rows+avg_ps_over_cols)/2\n",
    "            \n",
    "    return spin_stiffness, avg_ps_over_rows, avg_ps_over_cols\n",
    "end"
   ]
  },
  {
   "cell_type": "code",
   "execution_count": 22,
   "id": "b8336552",
   "metadata": {},
   "outputs": [
    {
     "data": {
      "text/plain": [
       "(-0.25, -0.25, -0.25)"
      ]
     },
     "execution_count": 22,
     "metadata": {},
     "output_type": "execute_result"
    }
   ],
   "source": [
    "rows,cols = rows_and_columns(4,4)\n",
    "spin_stiffness(1,test1,interactions,rows,cols)"
   ]
  },
  {
   "cell_type": "code",
   "execution_count": 23,
   "id": "0ead31d1",
   "metadata": {},
   "outputs": [
    {
     "data": {
      "text/plain": [
       "(0.1040367091367856, 0.1040367091367856, 0.1040367091367856)"
      ]
     },
     "execution_count": 23,
     "metadata": {},
     "output_type": "execute_result"
    }
   ],
   "source": [
    "chk = [-1,1,-1,1,1,-1,1,-1,-1,1,-1,1,1,-1,1,-1]\n",
    "spin_stiffness(1,chk,interactions,rows,cols)"
   ]
  },
  {
   "cell_type": "code",
   "execution_count": 32,
   "id": "1e053c18",
   "metadata": {},
   "outputs": [
    {
     "data": {
      "text/plain": [
       "MonteCarlo_Ising (generic function with 2 methods)"
      ]
     },
     "execution_count": 32,
     "metadata": {},
     "output_type": "execute_result"
    }
   ],
   "source": [
    "function MonteCarlo_Ising(beta,Lx,Ly,warmup_steps,steps,steps_per_step,build_lattice_function,rows_and_cols_function,update_function,energy_function,spin_stiffness_function)\n",
    "    \n",
    "    # system information\n",
    "    N = Lx*Ly\n",
    "    interactions = build_lattice_function(Lx,Ly)\n",
    "    rows,cols = rows_and_cols_function(Lx,Ly)\n",
    "    initial_config = rand(Float64,N)*2*pi\n",
    "    \n",
    "    # initialize dataframes\n",
    "    maindf = DataFrame(:avenergy => Float64[],:avenergy2 => Float64[],:pss => Float64[],:avpss => Float64[])\n",
    "    \n",
    "    # warmup steps - track Es and Ms but not in averages\n",
    "    config = initial_config\n",
    "    energy = energy_function(config,interactions)\n",
    "    for step in (1:warmup_steps)\n",
    "        for inner_steps in (1:steps_per_step)\n",
    "            new_config, deltaE = update_function(config,energy,interactions,beta,energy_function)\n",
    "            config = copy(new_config)\n",
    "            new_energy = energy+deltaE\n",
    "            energy = new_energy\n",
    "        end\n",
    "    end\n",
    "    \n",
    "    # begin MC steps and observable tracking\n",
    "    sumE = 0\n",
    "    sumE2 = 0\n",
    "    sumps = 0\n",
    "    println(\"Warmup steps over!\")\n",
    "    for step in (1:steps)\n",
    "        for inner_step in (1:steps_per_step)\n",
    "            new_config,deltaE = update_function(config,energy,interactions,beta,energy_function)\n",
    "            config = copy(new_config)\n",
    "            new_energy = energy+deltaE\n",
    "            energy = new_energy\n",
    "        end\n",
    "        sumE = sumE+energy\n",
    "        sumE2 = sumE2+energy^2\n",
    "        ps,_,_ = spin_stiffness_function(beta,config,interactions,rows,cols)\n",
    "        sumps += ps\n",
    "        push!(maindf, (sumE/step,sumE2/step,ps,sumps/step))\n",
    "    end\n",
    "        \n",
    "    return maindf\n",
    "end"
   ]
  },
  {
   "cell_type": "code",
   "execution_count": 33,
   "id": "d374bea1",
   "metadata": {},
   "outputs": [
    {
     "name": "stdout",
     "output_type": "stream",
     "text": [
      "Warmup steps over!\n"
     ]
    },
    {
     "data": {
      "text/html": [
       "<div><div style = \"float: left;\"><span>1000×4 DataFrame</span></div><div style = \"float: right;\"><span style = \"font-style: italic;\">975 rows omitted</span></div><div style = \"clear: both;\"></div></div><div class = \"data-frame\" style = \"overflow-x: scroll;\"><table class = \"data-frame\" style = \"margin-bottom: 6px;\"><thead><tr class = \"header\"><th class = \"rowNumber\" style = \"font-weight: bold; text-align: right;\">Row</th><th style = \"text-align: left;\">avenergy</th><th style = \"text-align: left;\">avenergy2</th><th style = \"text-align: left;\">pss</th><th style = \"text-align: left;\">avpss</th></tr><tr class = \"subheader headerLastRow\"><th class = \"rowNumber\" style = \"font-weight: bold; text-align: right;\"></th><th title = \"Float64\" style = \"text-align: left;\">Float64</th><th title = \"Float64\" style = \"text-align: left;\">Float64</th><th title = \"Float64\" style = \"text-align: left;\">Float64</th><th title = \"Float64\" style = \"text-align: left;\">Float64</th></tr></thead><tbody><tr><td class = \"rowNumber\" style = \"font-weight: bold; text-align: right;\">1</td><td style = \"text-align: right;\">-15.8872</td><td style = \"text-align: right;\">252.404</td><td style = \"text-align: right;\">-0.124119</td><td style = \"text-align: right;\">-0.124119</td></tr><tr><td class = \"rowNumber\" style = \"font-weight: bold; text-align: right;\">2</td><td style = \"text-align: right;\">-15.8872</td><td style = \"text-align: right;\">252.404</td><td style = \"text-align: right;\">-0.124119</td><td style = \"text-align: right;\">-0.124119</td></tr><tr><td class = \"rowNumber\" style = \"font-weight: bold; text-align: right;\">3</td><td style = \"text-align: right;\">-15.8872</td><td style = \"text-align: right;\">252.404</td><td style = \"text-align: right;\">-0.124119</td><td style = \"text-align: right;\">-0.124119</td></tr><tr><td class = \"rowNumber\" style = \"font-weight: bold; text-align: right;\">4</td><td style = \"text-align: right;\">-15.8872</td><td style = \"text-align: right;\">252.404</td><td style = \"text-align: right;\">-0.124119</td><td style = \"text-align: right;\">-0.124119</td></tr><tr><td class = \"rowNumber\" style = \"font-weight: bold; text-align: right;\">5</td><td style = \"text-align: right;\">-15.8872</td><td style = \"text-align: right;\">252.404</td><td style = \"text-align: right;\">-0.124119</td><td style = \"text-align: right;\">-0.124119</td></tr><tr><td class = \"rowNumber\" style = \"font-weight: bold; text-align: right;\">6</td><td style = \"text-align: right;\">-15.8872</td><td style = \"text-align: right;\">252.404</td><td style = \"text-align: right;\">-0.124119</td><td style = \"text-align: right;\">-0.124119</td></tr><tr><td class = \"rowNumber\" style = \"font-weight: bold; text-align: right;\">7</td><td style = \"text-align: right;\">-15.8872</td><td style = \"text-align: right;\">252.404</td><td style = \"text-align: right;\">-0.124119</td><td style = \"text-align: right;\">-0.124119</td></tr><tr><td class = \"rowNumber\" style = \"font-weight: bold; text-align: right;\">8</td><td style = \"text-align: right;\">-15.8872</td><td style = \"text-align: right;\">252.404</td><td style = \"text-align: right;\">-0.124119</td><td style = \"text-align: right;\">-0.124119</td></tr><tr><td class = \"rowNumber\" style = \"font-weight: bold; text-align: right;\">9</td><td style = \"text-align: right;\">-15.8872</td><td style = \"text-align: right;\">252.404</td><td style = \"text-align: right;\">-0.124119</td><td style = \"text-align: right;\">-0.124119</td></tr><tr><td class = \"rowNumber\" style = \"font-weight: bold; text-align: right;\">10</td><td style = \"text-align: right;\">-15.8872</td><td style = \"text-align: right;\">252.404</td><td style = \"text-align: right;\">-0.124119</td><td style = \"text-align: right;\">-0.124119</td></tr><tr><td class = \"rowNumber\" style = \"font-weight: bold; text-align: right;\">11</td><td style = \"text-align: right;\">-15.8872</td><td style = \"text-align: right;\">252.404</td><td style = \"text-align: right;\">-0.124119</td><td style = \"text-align: right;\">-0.124119</td></tr><tr><td class = \"rowNumber\" style = \"font-weight: bold; text-align: right;\">12</td><td style = \"text-align: right;\">-15.8872</td><td style = \"text-align: right;\">252.404</td><td style = \"text-align: right;\">-0.124119</td><td style = \"text-align: right;\">-0.124119</td></tr><tr><td class = \"rowNumber\" style = \"font-weight: bold; text-align: right;\">13</td><td style = \"text-align: right;\">-15.8872</td><td style = \"text-align: right;\">252.404</td><td style = \"text-align: right;\">-0.124119</td><td style = \"text-align: right;\">-0.124119</td></tr><tr><td style = \"text-align: right;\">&vellip;</td><td style = \"text-align: right;\">&vellip;</td><td style = \"text-align: right;\">&vellip;</td><td style = \"text-align: right;\">&vellip;</td><td style = \"text-align: right;\">&vellip;</td></tr><tr><td class = \"rowNumber\" style = \"font-weight: bold; text-align: right;\">989</td><td style = \"text-align: right;\">-13.548</td><td style = \"text-align: right;\">187.147</td><td style = \"text-align: right;\">-0.117083</td><td style = \"text-align: right;\">-0.105844</td></tr><tr><td class = \"rowNumber\" style = \"font-weight: bold; text-align: right;\">990</td><td style = \"text-align: right;\">-13.5494</td><td style = \"text-align: right;\">187.185</td><td style = \"text-align: right;\">-0.117083</td><td style = \"text-align: right;\">-0.105855</td></tr><tr><td class = \"rowNumber\" style = \"font-weight: bold; text-align: right;\">991</td><td style = \"text-align: right;\">-13.5509</td><td style = \"text-align: right;\">187.222</td><td style = \"text-align: right;\">-0.117083</td><td style = \"text-align: right;\">-0.105866</td></tr><tr><td class = \"rowNumber\" style = \"font-weight: bold; text-align: right;\">992</td><td style = \"text-align: right;\">-13.5523</td><td style = \"text-align: right;\">187.26</td><td style = \"text-align: right;\">-0.117083</td><td style = \"text-align: right;\">-0.105878</td></tr><tr><td class = \"rowNumber\" style = \"font-weight: bold; text-align: right;\">993</td><td style = \"text-align: right;\">-13.5538</td><td style = \"text-align: right;\">187.298</td><td style = \"text-align: right;\">-0.117083</td><td style = \"text-align: right;\">-0.105889</td></tr><tr><td class = \"rowNumber\" style = \"font-weight: bold; text-align: right;\">994</td><td style = \"text-align: right;\">-13.5552</td><td style = \"text-align: right;\">187.335</td><td style = \"text-align: right;\">-0.117083</td><td style = \"text-align: right;\">-0.1059</td></tr><tr><td class = \"rowNumber\" style = \"font-weight: bold; text-align: right;\">995</td><td style = \"text-align: right;\">-13.5566</td><td style = \"text-align: right;\">187.373</td><td style = \"text-align: right;\">-0.117083</td><td style = \"text-align: right;\">-0.105911</td></tr><tr><td class = \"rowNumber\" style = \"font-weight: bold; text-align: right;\">996</td><td style = \"text-align: right;\">-13.5581</td><td style = \"text-align: right;\">187.41</td><td style = \"text-align: right;\">-0.117083</td><td style = \"text-align: right;\">-0.105923</td></tr><tr><td class = \"rowNumber\" style = \"font-weight: bold; text-align: right;\">997</td><td style = \"text-align: right;\">-13.5595</td><td style = \"text-align: right;\">187.447</td><td style = \"text-align: right;\">-0.117083</td><td style = \"text-align: right;\">-0.105934</td></tr><tr><td class = \"rowNumber\" style = \"font-weight: bold; text-align: right;\">998</td><td style = \"text-align: right;\">-13.5609</td><td style = \"text-align: right;\">187.484</td><td style = \"text-align: right;\">-0.117083</td><td style = \"text-align: right;\">-0.105945</td></tr><tr><td class = \"rowNumber\" style = \"font-weight: bold; text-align: right;\">999</td><td style = \"text-align: right;\">-13.5624</td><td style = \"text-align: right;\">187.522</td><td style = \"text-align: right;\">-0.117083</td><td style = \"text-align: right;\">-0.105956</td></tr><tr><td class = \"rowNumber\" style = \"font-weight: bold; text-align: right;\">1000</td><td style = \"text-align: right;\">-13.5638</td><td style = \"text-align: right;\">187.559</td><td style = \"text-align: right;\">-0.117083</td><td style = \"text-align: right;\">-0.105967</td></tr></tbody></table></div>"
      ],
      "text/latex": [
       "\\begin{tabular}{r|cccc}\n",
       "\t& avenergy & avenergy2 & pss & avpss\\\\\n",
       "\t\\hline\n",
       "\t& Float64 & Float64 & Float64 & Float64\\\\\n",
       "\t\\hline\n",
       "\t1 & -15.8872 & 252.404 & -0.124119 & -0.124119 \\\\\n",
       "\t2 & -15.8872 & 252.404 & -0.124119 & -0.124119 \\\\\n",
       "\t3 & -15.8872 & 252.404 & -0.124119 & -0.124119 \\\\\n",
       "\t4 & -15.8872 & 252.404 & -0.124119 & -0.124119 \\\\\n",
       "\t5 & -15.8872 & 252.404 & -0.124119 & -0.124119 \\\\\n",
       "\t6 & -15.8872 & 252.404 & -0.124119 & -0.124119 \\\\\n",
       "\t7 & -15.8872 & 252.404 & -0.124119 & -0.124119 \\\\\n",
       "\t8 & -15.8872 & 252.404 & -0.124119 & -0.124119 \\\\\n",
       "\t9 & -15.8872 & 252.404 & -0.124119 & -0.124119 \\\\\n",
       "\t10 & -15.8872 & 252.404 & -0.124119 & -0.124119 \\\\\n",
       "\t11 & -15.8872 & 252.404 & -0.124119 & -0.124119 \\\\\n",
       "\t12 & -15.8872 & 252.404 & -0.124119 & -0.124119 \\\\\n",
       "\t13 & -15.8872 & 252.404 & -0.124119 & -0.124119 \\\\\n",
       "\t14 & -15.8872 & 252.404 & -0.124119 & -0.124119 \\\\\n",
       "\t15 & -15.8872 & 252.404 & -0.124119 & -0.124119 \\\\\n",
       "\t16 & -15.8872 & 252.404 & -0.124119 & -0.124119 \\\\\n",
       "\t17 & -15.8872 & 252.404 & -0.124119 & -0.124119 \\\\\n",
       "\t18 & -15.8872 & 252.404 & -0.124119 & -0.124119 \\\\\n",
       "\t19 & -15.8872 & 252.404 & -0.124119 & -0.124119 \\\\\n",
       "\t20 & -15.8872 & 252.404 & -0.124119 & -0.124119 \\\\\n",
       "\t21 & -15.8872 & 252.404 & -0.124119 & -0.124119 \\\\\n",
       "\t22 & -15.8872 & 252.404 & -0.124119 & -0.124119 \\\\\n",
       "\t23 & -15.8872 & 252.404 & -0.124119 & -0.124119 \\\\\n",
       "\t24 & -15.8872 & 252.404 & -0.124119 & -0.124119 \\\\\n",
       "\t25 & -15.8872 & 252.404 & -0.124119 & -0.124119 \\\\\n",
       "\t26 & -15.8872 & 252.404 & -0.124119 & -0.124119 \\\\\n",
       "\t27 & -15.8872 & 252.404 & -0.124119 & -0.124119 \\\\\n",
       "\t28 & -15.8872 & 252.404 & -0.124119 & -0.124119 \\\\\n",
       "\t29 & -15.8872 & 252.404 & -0.124119 & -0.124119 \\\\\n",
       "\t30 & -15.8872 & 252.404 & -0.124119 & -0.124119 \\\\\n",
       "\t$\\dots$ & $\\dots$ & $\\dots$ & $\\dots$ & $\\dots$ \\\\\n",
       "\\end{tabular}\n"
      ],
      "text/plain": [
       "\u001b[1m1000×4 DataFrame\u001b[0m\n",
       "\u001b[1m  Row \u001b[0m│\u001b[1m avenergy \u001b[0m\u001b[1m avenergy2 \u001b[0m\u001b[1m pss       \u001b[0m\u001b[1m avpss     \u001b[0m\n",
       "      │\u001b[90m Float64  \u001b[0m\u001b[90m Float64   \u001b[0m\u001b[90m Float64   \u001b[0m\u001b[90m Float64   \u001b[0m\n",
       "──────┼───────────────────────────────────────────\n",
       "    1 │ -15.8872    252.404  -0.124119  -0.124119\n",
       "    2 │ -15.8872    252.404  -0.124119  -0.124119\n",
       "    3 │ -15.8872    252.404  -0.124119  -0.124119\n",
       "    4 │ -15.8872    252.404  -0.124119  -0.124119\n",
       "    5 │ -15.8872    252.404  -0.124119  -0.124119\n",
       "    6 │ -15.8872    252.404  -0.124119  -0.124119\n",
       "    7 │ -15.8872    252.404  -0.124119  -0.124119\n",
       "    8 │ -15.8872    252.404  -0.124119  -0.124119\n",
       "    9 │ -15.8872    252.404  -0.124119  -0.124119\n",
       "   10 │ -15.8872    252.404  -0.124119  -0.124119\n",
       "   11 │ -15.8872    252.404  -0.124119  -0.124119\n",
       "  ⋮   │    ⋮          ⋮          ⋮          ⋮\n",
       "  991 │ -13.5509    187.222  -0.117083  -0.105866\n",
       "  992 │ -13.5523    187.26   -0.117083  -0.105878\n",
       "  993 │ -13.5538    187.298  -0.117083  -0.105889\n",
       "  994 │ -13.5552    187.335  -0.117083  -0.1059\n",
       "  995 │ -13.5566    187.373  -0.117083  -0.105911\n",
       "  996 │ -13.5581    187.41   -0.117083  -0.105923\n",
       "  997 │ -13.5595    187.447  -0.117083  -0.105934\n",
       "  998 │ -13.5609    187.484  -0.117083  -0.105945\n",
       "  999 │ -13.5624    187.522  -0.117083  -0.105956\n",
       " 1000 │ -13.5638    187.559  -0.117083  -0.105967\n",
       "\u001b[36m                                  979 rows omitted\u001b[0m"
      ]
     },
     "execution_count": 33,
     "metadata": {},
     "output_type": "execute_result"
    }
   ],
   "source": [
    "MonteCarlo_Ising(1,4,4,1000,1000,10,build_lattice_df,rows_and_columns,XY_update_function,Calculate_XY_Energy,spin_stiffness)\n"
   ]
  },
  {
   "cell_type": "code",
   "execution_count": null,
   "id": "438988b1",
   "metadata": {},
   "outputs": [],
   "source": []
  }
 ],
 "metadata": {
  "kernelspec": {
   "display_name": "Julia 1.8.1",
   "language": "julia",
   "name": "julia-1.8"
  },
  "language_info": {
   "file_extension": ".jl",
   "mimetype": "application/julia",
   "name": "julia",
   "version": "1.8.1"
  }
 },
 "nbformat": 4,
 "nbformat_minor": 5
}
