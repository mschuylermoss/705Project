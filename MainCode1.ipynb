{
 "cells": [
  {
   "cell_type": "code",
   "execution_count": null,
   "id": "dc95b7a1",
   "metadata": {},
   "outputs": [],
   "source": [
    "using Random\n",
    "using DataFrames\n",
    "using CSV"
   ]
  },
  {
   "cell_type": "code",
   "execution_count": null,
   "id": "11e48ea3",
   "metadata": {},
   "outputs": [],
   "source": [
    "function build_lattice_df(Lx,Ly)\n",
    "    \n",
    "    N = Lx*Ly\n",
    "    interactions = DataFrame([\"$spin\" => [] for spin in 1:N])    \n",
    "    for spin in 1:N\n",
    "        up = mod(spin-1-Lx,N)\n",
    "        down = mod(spin-1+Lx,N)\n",
    "        right = Int(((spin-1)-((spin-1)%Lx)) + mod(((spin-1)%Lx)+1,Lx))\n",
    "        left = Int(((spin-1)-((spin-1)%Lx)) + mod(((spin-1)%Lx)-1,Lx))\n",
    "        push!(interactions[!,\"$spin\"],[up+1,down+1,left+1,right+1])\n",
    "    end\n",
    "    \n",
    "    return interactions\n",
    "end"
   ]
  },
  {
   "cell_type": "code",
   "execution_count": null,
   "id": "1478b0b7",
   "metadata": {},
   "outputs": [],
   "source": [
    "function Calculate_Ising_Energy(config,interactions,J)\n",
    "    \n",
    "    N = length(config)\n",
    "    energy = 0\n",
    "    \n",
    "    for spin in (1:N)\n",
    "        neighbors = interactions[!,\"$spin\"][1,1]\n",
    "        energy_contributions = 0.5*-1*J*config[spin].*config[neighbors]\n",
    "        energy += sum(energy_contributions)\n",
    "    end\n",
    "    \n",
    "    return energy\n",
    "    \n",
    "end"
   ]
  },
  {
   "cell_type": "code",
   "execution_count": null,
   "id": "563bf8ca",
   "metadata": {},
   "outputs": [],
   "source": [
    "function build_deltaE_df(beta)\n",
    "    \n",
    "    possible_sum_neighbors = collect(-4:2:4)\n",
    "    spins = [1,-1]\n",
    "    deltaEs = DataFrame([\"$spin,$poss\" => [] for poss in possible_sum_neighbors for spin in spins])    \n",
    "    for sum_neighbors in possible_sum_neighbors\n",
    "        spinup_deltaE = 2*sum_neighbors\n",
    "        spindown_deltaE = -2*sum_neighbors \n",
    "        push!(deltaEs[!,\"1,$sum_neighbors\"],spinup_deltaE)\n",
    "        push!(deltaEs[!,\"-1,$sum_neighbors\"],spindown_deltaE)\n",
    "    end\n",
    "    \n",
    "    return deltaEs\n",
    "end"
   ]
  },
  {
   "cell_type": "code",
   "execution_count": null,
   "id": "614500e6",
   "metadata": {},
   "outputs": [],
   "source": [
    "function Metropolis_update_function(config,energy,interactions,beta,J,deltaE_vals)\n",
    "    \n",
    "    rand_spin_flip_index = rand(1:length(config),1)[1]\n",
    "    new_config = copy(config)\n",
    "\n",
    "    spin = Int(config[rand_spin_flip_index])\n",
    "    neighbors = interactions[!,\"$rand_spin_flip_index\"][1,1]\n",
    "    sum_neighbors = Int(sum(config[neighbors]))\n",
    "    deltaE = deltaE_vals[!,\"$spin,$sum_neighbors\"][1]\n",
    "    exp_beta_deltaE = exp(-1*beta*deltaE)\n",
    "    rand_value = rand(Float64,1)[1]\n",
    "    \n",
    "    if exp_beta_deltaE > rand_value\n",
    "        new_config[rand_spin_flip_index] = -1*config[rand_spin_flip_index]\n",
    "    else\n",
    "        deltaE = 0.\n",
    "    end\n",
    "    \n",
    "    return new_config, deltaE\n",
    "end"
   ]
  },
  {
   "cell_type": "code",
   "execution_count": null,
   "id": "fbab4a11",
   "metadata": {},
   "outputs": [],
   "source": [
    "function Ising_cluster_update(config,energy,interactions,beta,J,energy_func)\n",
    "    # angle defining flipping axis\n",
    "    N = length(config)\n",
    "    cluster = []\n",
    "    spins_to_check = []\n",
    "    initial_spin = rand(1:N)\n",
    "    prob = 1-exp(-(2*beta))\n",
    "    append!(cluster, initial_spin)\n",
    "    append!(spins_to_check, initial_spin)\n",
    "    while !isempty(spins_to_check)\n",
    "        # check all neighbours of spins_to_check\n",
    "        site = spins_to_check[1]\n",
    "        spin_val = config[site]\n",
    "        neighbors = interactions[!,\"$site\"][1,1]\n",
    "        neighbors_not_in_cluster = setdiff(neighbors,cluster)\n",
    "        for i in neighbors_not_in_cluster\n",
    "            spin_neighbor = config[i]\n",
    "            if spin_neighbor == spin_val\n",
    "                if prob > rand()\n",
    "                    append!(cluster, i)\n",
    "                    append!(spins_to_check, i)\n",
    "                end\n",
    "            end\n",
    "        end\n",
    "        #remove the one we just checked\n",
    "        popfirst!(spins_to_check)\n",
    "    end\n",
    "    \n",
    "    for i in cluster\n",
    "        config[i] = -1*config[i]\n",
    "    end\n",
    "    \n",
    "    new_energy = energy_func(config,interactions,J)\n",
    "    deltaE = new_energy-energy\n",
    "    \n",
    "    return config, deltaE\n",
    "end"
   ]
  },
  {
   "cell_type": "code",
   "execution_count": null,
   "id": "1e053c18",
   "metadata": {},
   "outputs": [],
   "source": [
    "function MonteCarlo_Ising(beta,J,Lx,Ly,warmup_steps,steps,steps_per_step,build_lattice_function,build_update_probs,update_function,energy_function)\n",
    "    \n",
    "    # system information\n",
    "    N = Lx*Ly\n",
    "    interactions = build_lattice_function(Lx,Ly)\n",
    "    deltaEs = build_deltaE_df(beta)\n",
    "    initial_config = rand((-1,1),N)\n",
    "    \n",
    "    # initialize dataframes\n",
    "    fulldf = DataFrame(:Es => Float64[],:avE => Float64[])\n",
    "    maindf = DataFrame(:avenergy => Float64[],:avenergy2 => Float64[],:rawMs => Float64[],:avM => Float64[],:avM2 => Float64[])\n",
    "    \n",
    "    # warmup steps - track Es and Ms but not in averages\n",
    "    config = initial_config\n",
    "    energy = energy_function(config,interactions,J)\n",
    "    M = 0.\n",
    "    fullsumE = 0\n",
    "    for step in (1:warmup_steps)\n",
    "        for inner_steps in (1:steps_per_step)\n",
    "            new_config, deltaE = update_function(config,energy,interactions,beta,J,energy_function)\n",
    "#             new_config,deltaE = update_function(config,energy,interactions,beta,J,deltaEs)\n",
    "            config = copy(new_config)\n",
    "            new_energy = energy+deltaE\n",
    "            energy = new_energy\n",
    "            fullsumE = fullsumE+energy\n",
    "            M = sum(new_config)\n",
    "        end\n",
    "        push!(fulldf,(energy,fullsumE/(step*steps_per_step)))\n",
    "    end\n",
    "    \n",
    "    # begin MC steps and observable tracking\n",
    "    sumE = 0\n",
    "    sumE2 = 0\n",
    "    sumM = 0\n",
    "    sumM2 = 0\n",
    "    for step in (1:steps)\n",
    "        for inner_step in (1:steps_per_step)\n",
    "            new_config,deltaE = update_function(config,energy,interactions,beta,J,energy_function)\n",
    "#             new_config,deltaE = update_function(config,energy,interactions,beta,J,deltaEs)\n",
    "            config = copy(new_config)\n",
    "            new_energy = energy+deltaE\n",
    "            energy = new_energy\n",
    "            fullsumE = fullsumE+energy\n",
    "        end\n",
    "        M = sum(config)\n",
    "        push!(fulldf,(energy,fullsumE/((step*steps_per_step)+warmup_steps)))\n",
    "        absM = abs(M)\n",
    "        sumE = sumE+energy\n",
    "        sumE2 = sumE2+energy^2\n",
    "        sumM = sumM+absM\n",
    "        sumM2 = sumM2+absM^2\n",
    "        push!(maindf, (sumE/step,sumE2/step,M,sumM/step,sumM2/step))\n",
    "    end\n",
    "        \n",
    "    return maindf,fulldf\n",
    "end"
   ]
  },
  {
   "cell_type": "markdown",
   "id": "725153af",
   "metadata": {},
   "source": [
    "# Q 1 a"
   ]
  },
  {
   "cell_type": "code",
   "execution_count": null,
   "id": "af9aa75f",
   "metadata": {
    "scrolled": true
   },
   "outputs": [],
   "source": [
    "Ts = [1.0,1/3]\n",
    "Ls = [16]\n",
    "J = 1\n",
    "N_chains = 5\n",
    "n_steps = 1000000\n",
    "warmup = Int(n_steps/10)\n",
    "\n",
    "for L in Ls\n",
    "    println(\"L = \",L)\n",
    "    for T in Ts\n",
    "        beta = 1/T\n",
    "        println(\"T = \",T,\" and beta = \",beta)\n",
    "        T = round(T,digits=3)\n",
    "        for chain in 1:N_chains\n",
    "            println(\"chain #\",chain)\n",
    "            @time begin\n",
    "            avgs,full = MonteCarlo_Ising(beta,J,L,L,warmup,n_steps,1,build_lattice_df,build_deltaE_df,Metropolis_update_function,Calculate_Ising_Energy);\n",
    "            end\n",
    "            CSV.write(\"./data/q1a/L_$(L)/avgvals_T_$(T)_chain$(chain).csv\",  avgs, writeheader=true)\n",
    "            CSV.write(\"./data/q1a/L_$(L)/fullavgvals_T_$(T)_chain$(chain).csv\",  full, writeheader=true)\n",
    "        end\n",
    "    end\n",
    "end"
   ]
  },
  {
   "cell_type": "code",
   "execution_count": null,
   "id": "1b11051d",
   "metadata": {
    "scrolled": true
   },
   "outputs": [],
   "source": [
    "Ts = [1.0,1/3]\n",
    "Ls = [16]\n",
    "J = 1\n",
    "N_chains = 5\n",
    "n_steps = 1000000\n",
    "warmup = Int(n_steps/10)\n",
    "\n",
    "for L in Ls\n",
    "    println(\"L = \",L)\n",
    "    for T in Ts\n",
    "        beta = 1/T\n",
    "        println(\"T = \",T,\" and beta = \",beta)\n",
    "        T = round(T,digits=3)\n",
    "        for chain in 2:N_chains\n",
    "            println(\"chain #\",chain)\n",
    "            @time begin\n",
    "            avgs,full = MonteCarlo_Ising(beta,J,L,L,warmup,n_steps,(L^2)/2,build_lattice_df,build_deltaE_df,Metropolis_update_function,Calculate_Ising_Energy);\n",
    "            end\n",
    "            CSV.write(\"./data/q1a/L_$(L)/avgvals2_T_$(T)_chain$(chain).csv\",  avgs, writeheader=true)\n",
    "            CSV.write(\"./data/q1a/L_$(L)/allvals2_T_$(T)_chain$(chain).csv\",  full, writeheader=true)\n",
    "        end\n",
    "    end\n",
    "end"
   ]
  },
  {
   "cell_type": "markdown",
   "id": "b509705a",
   "metadata": {},
   "source": [
    "# Q 1 b, c, d"
   ]
  },
  {
   "cell_type": "markdown",
   "id": "ff9f382d",
   "metadata": {},
   "source": [
    "Need to continue runs for L = 32"
   ]
  },
  {
   "cell_type": "code",
   "execution_count": null,
   "id": "887a21b4",
   "metadata": {
    "scrolled": true
   },
   "outputs": [],
   "source": [
    "Ts = 2.0:0.05:4.0\n",
    "Ls = [32]\n",
    "J = 1\n",
    "N_chains = 10\n",
    "n_steps = 5000\n",
    "warmup = Int(n_steps/5)\n",
    "\n",
    "for L in Ls\n",
    "    println(\"L = \",L)\n",
    "    for T in Ts\n",
    "        beta = 1/T\n",
    "        println(\"T = \",T,\" and beta = \",beta)\n",
    "        T = round(T,digits=2)\n",
    "        for chain in 1:N_chains\n",
    "            println(\"chain #\",chain)\n",
    "            avgs,full = MonteCarlo_Ising(beta,J,L,L,warmup,n_steps,1,build_lattice_df,build_deltaE_df,Ising_cluster_update,Calculate_Ising_Energy);\n",
    "#             CSV.write(\"./data/q1b/L_$(L)/allvals_T_$(T)_chain$(chain).csv\",  full, writeheader=true)\n",
    "            CSV.write(\"./data/q1b_cluster/L_$(L)/avgvals_T_$(T)_chain$(chain).csv\",  avgs, writeheader=true)\n",
    "        end\n",
    "    end\n",
    "end"
   ]
  },
  {
   "cell_type": "markdown",
   "id": "ac47befa",
   "metadata": {},
   "source": [
    "Finer T grid for smaller system sizes"
   ]
  },
  {
   "cell_type": "markdown",
   "id": "78a5f55a",
   "metadata": {},
   "source": [
    "Need to finish for L = 24!!!! Run L = 32??"
   ]
  },
  {
   "cell_type": "code",
   "execution_count": null,
   "id": "d374bea1",
   "metadata": {
    "scrolled": true
   },
   "outputs": [],
   "source": [
    "Ts = 1.56:0.01:4.0\n",
    "Ls = [24]\n",
    "J = 1\n",
    "N_chains = 10\n",
    "n_steps = 5000\n",
    "warmup = Int(n_steps/5)\n",
    "\n",
    "for L in Ls\n",
    "    println(\"L = \",L)\n",
    "    for T in Ts\n",
    "        beta = 1/T\n",
    "        println(\"T = \",T,\" and beta = \",beta)\n",
    "        T = round(T,digits=2)\n",
    "        for chain in 1:N_chains\n",
    "            println(\"chain #\",chain)\n",
    "            avgs,full = MonteCarlo_Ising(beta,J,L,L,warmup,n_steps,1,build_lattice_df,build_deltaE_df,Ising_cluster_update,Calculate_Ising_Energy);\n",
    "#             CSV.write(\"./data/q1b/L_$(L)/allvals_T_$(T)_chain$(chain).csv\",  full, writeheader=true)\n",
    "            CSV.write(\"./data/q1b_cluster/L_$(L)/avgvals_T_$(T)_chain$(chain).csv\",  avgs, writeheader=true)\n",
    "        end\n",
    "    end\n",
    "end"
   ]
  },
  {
   "cell_type": "code",
   "execution_count": null,
   "id": "a914dee8",
   "metadata": {},
   "outputs": [],
   "source": []
  }
 ],
 "metadata": {
  "kernelspec": {
   "display_name": "Julia 1.8.1",
   "language": "julia",
   "name": "julia-1.8"
  },
  "language_info": {
   "file_extension": ".jl",
   "mimetype": "application/julia",
   "name": "julia",
   "version": "1.8.1"
  }
 },
 "nbformat": 4,
 "nbformat_minor": 5
}
