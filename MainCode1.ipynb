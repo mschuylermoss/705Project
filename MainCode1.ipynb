{
 "cells": [
  {
   "cell_type": "code",
   "execution_count": 2,
   "id": "dc95b7a1",
   "metadata": {},
   "outputs": [],
   "source": [
    "using Random\n",
    "using DataFrames\n",
    "using CSV"
   ]
  },
  {
   "cell_type": "code",
   "execution_count": 4,
   "id": "11e48ea3",
   "metadata": {},
   "outputs": [
    {
     "data": {
      "text/plain": [
       "build_lattice_df (generic function with 1 method)"
      ]
     },
     "execution_count": 4,
     "metadata": {},
     "output_type": "execute_result"
    }
   ],
   "source": [
    "function build_lattice_df(Lx,Ly)\n",
    "    \n",
    "    N = Lx*Ly\n",
    "    interactions = DataFrame([\"$spin\" => [] for spin in 1:N])    \n",
    "    for spin in 1:N\n",
    "        up = mod(spin-1-Lx,N)\n",
    "        down = mod(spin-1+Lx,N)\n",
    "        right = Int(((spin-1)-((spin-1)%Lx)) + mod(((spin-1)%Lx)+1,Lx))\n",
    "        left = Int(((spin-1)-((spin-1)%Lx)) + mod(((spin-1)%Lx)-1,Lx))\n",
    "        push!(interactions[!,\"$spin\"],[up+1,down+1,left+1,right+1])\n",
    "    end\n",
    "    \n",
    "    return interactions\n",
    "end"
   ]
  },
  {
   "cell_type": "code",
   "execution_count": 13,
   "id": "1478b0b7",
   "metadata": {},
   "outputs": [
    {
     "data": {
      "text/plain": [
       "Calculate_Ising_Energy (generic function with 1 method)"
      ]
     },
     "execution_count": 13,
     "metadata": {},
     "output_type": "execute_result"
    }
   ],
   "source": [
    "function Calculate_Ising_Energy(config,interactions,J)\n",
    "    \n",
    "    N = length(config)\n",
    "    energy = 0\n",
    "    \n",
    "    for spin in (1:N)\n",
    "        neighbors = interactions[!,\"$spin\"][1,1]\n",
    "        energy_contributions = 0.5*-1*J*config[spin].*config[neighbors]\n",
    "        energy += sum(energy_contributions)\n",
    "    end\n",
    "    \n",
    "    return energy\n",
    "    \n",
    "end"
   ]
  },
  {
   "cell_type": "code",
   "execution_count": 4,
   "id": "563bf8ca",
   "metadata": {},
   "outputs": [
    {
     "data": {
      "text/plain": [
       "build_deltaE_df (generic function with 1 method)"
      ]
     },
     "execution_count": 4,
     "metadata": {},
     "output_type": "execute_result"
    }
   ],
   "source": [
    "function build_deltaE_df(beta)\n",
    "    \n",
    "    possible_sum_neighbors = collect(-4:2:4)\n",
    "    spins = [1,-1]\n",
    "    deltaEs = DataFrame([\"$spin,$poss\" => [] for poss in possible_sum_neighbors for spin in spins])    \n",
    "    for sum_neighbors in possible_sum_neighbors\n",
    "        spinup_deltaE = 2*sum_neighbors\n",
    "        spindown_deltaE = -2*sum_neighbors \n",
    "        push!(deltaEs[!,\"1,$sum_neighbors\"],spinup_deltaE)\n",
    "        push!(deltaEs[!,\"-1,$sum_neighbors\"],spindown_deltaE)\n",
    "    end\n",
    "    \n",
    "    return deltaEs\n",
    "end"
   ]
  },
  {
   "cell_type": "code",
   "execution_count": 5,
   "id": "614500e6",
   "metadata": {},
   "outputs": [
    {
     "data": {
      "text/plain": [
       "Metropolis_update_function (generic function with 1 method)"
      ]
     },
     "execution_count": 5,
     "metadata": {},
     "output_type": "execute_result"
    }
   ],
   "source": [
    "function Metropolis_update_function(config,interactions,beta,J,deltaE_vals)\n",
    "    \n",
    "    rand_spin_flip_index = rand(1:length(config),1)[1]\n",
    "    new_config = copy(config)\n",
    "\n",
    "    spin = Int(config[rand_spin_flip_index])\n",
    "    neighbors = interactions[!,\"$rand_spin_flip_index\"][1,1]\n",
    "    sum_neighbors = Int(sum(config[neighbors]))\n",
    "    deltaE = deltaE_vals[!,\"$spin,$sum_neighbors\"][1]\n",
    "    exp_beta_deltaE = exp(-1*beta*deltaE)\n",
    "    rand_value = rand(Float64,1)[1]\n",
    "    \n",
    "    if exp_beta_deltaE > rand_value\n",
    "        new_config[rand_spin_flip_index] = -1*config[rand_spin_flip_index]\n",
    "    else\n",
    "        deltaE = 0.\n",
    "    end\n",
    "    \n",
    "    return new_config, deltaE\n",
    "end"
   ]
  },
  {
   "cell_type": "code",
   "execution_count": 51,
   "id": "1e053c18",
   "metadata": {},
   "outputs": [
    {
     "data": {
      "text/plain": [
       "MonteCarlo_Ising (generic function with 2 methods)"
      ]
     },
     "execution_count": 51,
     "metadata": {},
     "output_type": "execute_result"
    }
   ],
   "source": [
    "function MonteCarlo_Ising(beta,J,Lx,Ly,warmup_steps,steps,steps_per_step,build_lattice_function,build_update_probs,update_function,energy_function)\n",
    "    \n",
    "    # system information\n",
    "    N = Lx*Ly\n",
    "    interactions = build_lattice_function(Lx,Ly)\n",
    "    deltaEs = build_deltaE_df(beta)\n",
    "    initial_config = rand((-1,1),N)\n",
    "    \n",
    "    # initialize dataframes\n",
    "#     fulldf = DataFrame(:Es => Float64[],:E2s => Float64[],:Ms => Int[],:M2s => Int[])\n",
    "    maindf = DataFrame(:avenergy => Float64[],:avenergy2 => Float64[],:avM => Float64[],:avM2 => Float64[])\n",
    "    \n",
    "    # warmup steps - track Es and Ms but not in averages\n",
    "    config = initial_config\n",
    "    energy = energy_function(config,interactions,J)\n",
    "    for step in (1:warmup_steps)\n",
    "        for inner_steps in (1:steps_per_step)\n",
    "            new_config, deltaE = update_function(config,interactions,beta,J,deltaEs)\n",
    "            config = copy(new_config)\n",
    "            new_energy = energy+deltaE\n",
    "            energy = new_energy\n",
    "#             M = sum(new_config)\n",
    "        end\n",
    "#         push!(fulldf,(energy,energy^2,M,M^2))\n",
    "    end\n",
    "    \n",
    "    # begin MC steps and observable tracking\n",
    "    sumE = 0\n",
    "    sumE2 = 0\n",
    "    sumM = 0\n",
    "    sumM2 = 0\n",
    "    println(\"Warmup steps over!\")\n",
    "#     println(energy)\n",
    "    for step in (1:steps)\n",
    "        for inner_step in (1:steps_per_step)\n",
    "            new_config,deltaE = update_function(config,interactions,beta,J,deltaEs)\n",
    "            config = copy(new_config)\n",
    "            new_energy = energy+deltaE\n",
    "            energy = new_energy\n",
    "        end\n",
    "        M = sum(config)\n",
    "#         push!(fulldf,(new_energy,new_energy^2,M,M^2))\n",
    "        absM = abs(M)\n",
    "        sumE = sumE+energy\n",
    "        sumE2 = sumE2+energy^2\n",
    "        sumM = sumM+absM\n",
    "        sumM2 = sumM2+absM^2\n",
    "        push!(maindf, (sumE/step,sumE2/step,sumM/step,sumM2/step))\n",
    "    end\n",
    "        \n",
    "    return maindf\n",
    "end"
   ]
  },
  {
   "cell_type": "markdown",
   "id": "725153af",
   "metadata": {},
   "source": [
    "# Q 1 a"
   ]
  },
  {
   "cell_type": "code",
   "execution_count": null,
   "id": "af9aa75f",
   "metadata": {},
   "outputs": [],
   "source": [
    "Ts = [1.0,1/3]\n",
    "Ls = [16]\n",
    "J = 1\n",
    "N_chains = 10\n",
    "n_steps = 1000000\n",
    "warmup = Int(n_steps/10)\n",
    "\n",
    "for L in Ls\n",
    "    println(\"L = \",L)\n",
    "    for T in Ts\n",
    "        beta = 1/T\n",
    "        println(\"T = \",T,\" and beta = \",beta)\n",
    "        T = round(T,digits=3)\n",
    "        for chain in 1:N_chains\n",
    "            println(\"chain #\",chain)\n",
    "            @time begin\n",
    "            full,avgs = MonteCarlo_Ising(beta,J,L,L,warmup,n_steps,build_lattice_df,build_exp_beta_deltaE_df,Metropolis_update_function,Calculate_Ising_EnergyPerSpin);\n",
    "            end\n",
    "            CSV.write(\"./data/q1a/L_$(L)/allvals_T_$(T)_chain$(chain).csv\",  full, writeheader=true)\n",
    "            CSV.write(\"./data/q1a/L_$(L)/avgvals_T_$(T)_chain$(chain).csv\",  avgs, writeheader=true)\n",
    "        end\n",
    "    end\n",
    "end"
   ]
  },
  {
   "cell_type": "markdown",
   "id": "b509705a",
   "metadata": {},
   "source": [
    "# Q 1 b"
   ]
  },
  {
   "cell_type": "code",
   "execution_count": null,
   "id": "887a21b4",
   "metadata": {},
   "outputs": [
    {
     "name": "stdout",
     "output_type": "stream",
     "text": [
      "L = 24\n",
      "T = 0.0 and beta = Inf\n",
      "chain #1\n",
      "Warmup steps over!\n",
      "T = 0.2 and beta = 5.0\n",
      "chain #1\n",
      "Warmup steps over!\n",
      "T = 0.4 and beta = 2.5\n",
      "chain #1\n",
      "Warmup steps over!\n",
      "T = 0.6 and beta = 1.6666666666666667\n",
      "chain #1\n",
      "Warmup steps over!\n",
      "T = 0.8 and beta = 1.25\n",
      "chain #1\n",
      "Warmup steps over!\n",
      "T = 1.0 and beta = 1.0\n",
      "chain #1\n",
      "Warmup steps over!\n",
      "T = 1.2 and beta = 0.8333333333333334\n",
      "chain #1\n",
      "Warmup steps over!\n",
      "T = 1.4 and beta = 0.7142857142857143\n",
      "chain #1\n",
      "Warmup steps over!\n",
      "T = 1.6 and beta = 0.625\n",
      "chain #1\n",
      "Warmup steps over!\n",
      "T = 1.8 and beta = 0.5555555555555556\n",
      "chain #1\n",
      "Warmup steps over!\n",
      "T = 2.0 and beta = 0.5\n",
      "chain #1\n",
      "Warmup steps over!\n",
      "T = 2.2 and beta = 0.45454545454545453\n",
      "chain #1\n",
      "Warmup steps over!\n",
      "T = 2.4 and beta = 0.4166666666666667\n",
      "chain #1\n",
      "Warmup steps over!\n",
      "T = 2.6 and beta = 0.3846153846153846\n",
      "chain #1\n",
      "Warmup steps over!\n",
      "T = 2.8 and beta = 0.35714285714285715\n",
      "chain #1\n",
      "Warmup steps over!\n",
      "T = 3.0 and beta = 0.3333333333333333\n",
      "chain #1\n",
      "Warmup steps over!\n",
      "T = 3.2 and beta = 0.3125\n",
      "chain #1\n",
      "Warmup steps over!\n",
      "T = 3.4 and beta = 0.29411764705882354\n",
      "chain #1\n",
      "Warmup steps over!\n",
      "T = 3.6 and beta = 0.2777777777777778\n",
      "chain #1\n",
      "Warmup steps over!\n",
      "T = 3.8 and beta = 0.2631578947368421\n",
      "chain #1\n",
      "Warmup steps over!\n",
      "T = 4.0 and beta = 0.25\n",
      "chain #1\n",
      "Warmup steps over!\n"
     ]
    }
   ],
   "source": [
    "# Ts = [0,0.0001,0.001,0.01,0.1,1,5,10,100,1000,10000,100000]\n",
    "Ts = 0.0:0.2:4.0\n",
    "Ls = [24]\n",
    "J = 1\n",
    "N_chains = 1\n",
    "n_steps = 1000000\n",
    "warmup = Int(n_steps/10)\n",
    "\n",
    "for L in Ls\n",
    "    println(\"L = \",L)\n",
    "    for T in Ts\n",
    "        beta = 1/T\n",
    "        println(\"T = \",T,\" and beta = \",beta)\n",
    "        T = round(T,digits=2)\n",
    "        for chain in 1:N_chains\n",
    "            println(\"chain #\",chain)\n",
    "            full,avgs = MonteCarlo_Ising(beta,J,L,L,warmup,n_steps,build_lattice_df,build_exp_beta_deltaE_df,Metropolis_update_function,Calculate_Ising_EnergyPerSpin);\n",
    "            CSV.write(\"./data/q1b/L_$(L)/allvals_T_$(T)_chain$(chain).csv\",  full, writeheader=true)\n",
    "            CSV.write(\"./data/q1b/L_$(L)/avgvals_T_$(T)_chain$(chain).csv\",  avgs, writeheader=true)\n",
    "        end\n",
    "    end\n",
    "end"
   ]
  },
  {
   "cell_type": "code",
   "execution_count": null,
   "id": "d374bea1",
   "metadata": {},
   "outputs": [],
   "source": []
  }
 ],
 "metadata": {
  "kernelspec": {
   "display_name": "Julia 1.8.1",
   "language": "julia",
   "name": "julia-1.8"
  },
  "language_info": {
   "file_extension": ".jl",
   "mimetype": "application/julia",
   "name": "julia",
   "version": "1.8.1"
  }
 },
 "nbformat": 4,
 "nbformat_minor": 5
}
